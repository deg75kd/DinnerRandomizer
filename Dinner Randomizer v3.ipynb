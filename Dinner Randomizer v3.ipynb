{
 "cells": [
  {
   "cell_type": "code",
   "execution_count": 29,
   "metadata": {},
   "outputs": [],
   "source": [
    "import pandas as pd\n",
    "import numpy as np"
   ]
  },
  {
   "cell_type": "code",
   "execution_count": 30,
   "metadata": {},
   "outputs": [],
   "source": [
    "recipe_count = 4"
   ]
  },
  {
   "cell_type": "markdown",
   "metadata": {},
   "source": [
    "### pull recipes"
   ]
  },
  {
   "cell_type": "code",
   "execution_count": 31,
   "metadata": {},
   "outputs": [],
   "source": [
    "# xlsx_path = 'C:\\Users\\Kevin\\DS\\Dinner Randomizer\\meals.xlsx'\n",
    "xlsx_path = 'meals.xlsx'\n",
    "df_meals = pd.read_excel(xlsx_path)"
   ]
  },
  {
   "cell_type": "code",
   "execution_count": 32,
   "metadata": {},
   "outputs": [
    {
     "data": {
      "text/html": [
       "<div>\n",
       "<style scoped>\n",
       "    .dataframe tbody tr th:only-of-type {\n",
       "        vertical-align: middle;\n",
       "    }\n",
       "\n",
       "    .dataframe tbody tr th {\n",
       "        vertical-align: top;\n",
       "    }\n",
       "\n",
       "    .dataframe thead th {\n",
       "        text-align: right;\n",
       "    }\n",
       "</style>\n",
       "<table border=\"1\" class=\"dataframe\">\n",
       "  <thead>\n",
       "    <tr style=\"text-align: right;\">\n",
       "      <th></th>\n",
       "      <th>MealID</th>\n",
       "      <th>MealName</th>\n",
       "      <th>Carb</th>\n",
       "      <th>Protein</th>\n",
       "      <th>Veg</th>\n",
       "      <th>Ease</th>\n",
       "      <th>Rating</th>\n",
       "    </tr>\n",
       "  </thead>\n",
       "  <tbody>\n",
       "    <tr>\n",
       "      <th>0</th>\n",
       "      <td>1</td>\n",
       "      <td>Falafel</td>\n",
       "      <td>bread</td>\n",
       "      <td>veg</td>\n",
       "      <td>Cucumber</td>\n",
       "      <td>moderate</td>\n",
       "      <td>2</td>\n",
       "    </tr>\n",
       "    <tr>\n",
       "      <th>1</th>\n",
       "      <td>2</td>\n",
       "      <td>Caesar salad</td>\n",
       "      <td>bread</td>\n",
       "      <td>chicken</td>\n",
       "      <td>salad</td>\n",
       "      <td>quick</td>\n",
       "      <td>2</td>\n",
       "    </tr>\n",
       "    <tr>\n",
       "      <th>2</th>\n",
       "      <td>3</td>\n",
       "      <td>Greek pork chops</td>\n",
       "      <td>potatoes</td>\n",
       "      <td>pork</td>\n",
       "      <td>salad</td>\n",
       "      <td>quick</td>\n",
       "      <td>2</td>\n",
       "    </tr>\n",
       "    <tr>\n",
       "      <th>3</th>\n",
       "      <td>4</td>\n",
       "      <td>Stir-fry</td>\n",
       "      <td>rice/noodles</td>\n",
       "      <td>any</td>\n",
       "      <td>mixed</td>\n",
       "      <td>quick</td>\n",
       "      <td>3</td>\n",
       "    </tr>\n",
       "    <tr>\n",
       "      <th>4</th>\n",
       "      <td>5</td>\n",
       "      <td>Spaghetti carbonera</td>\n",
       "      <td>noodles</td>\n",
       "      <td>bacon</td>\n",
       "      <td>peas</td>\n",
       "      <td>quick</td>\n",
       "      <td>3</td>\n",
       "    </tr>\n",
       "  </tbody>\n",
       "</table>\n",
       "</div>"
      ],
      "text/plain": [
       "   MealID             MealName          Carb  Protein       Veg      Ease  \\\n",
       "0       1              Falafel         bread      veg  Cucumber  moderate   \n",
       "1       2         Caesar salad         bread  chicken     salad     quick   \n",
       "2       3     Greek pork chops      potatoes     pork     salad     quick   \n",
       "3       4             Stir-fry  rice/noodles      any     mixed     quick   \n",
       "4       5  Spaghetti carbonera       noodles    bacon      peas     quick   \n",
       "\n",
       "   Rating  \n",
       "0       2  \n",
       "1       2  \n",
       "2       2  \n",
       "3       3  \n",
       "4       3  "
      ]
     },
     "execution_count": 32,
     "metadata": {},
     "output_type": "execute_result"
    }
   ],
   "source": [
    "df_meals.head()"
   ]
  },
  {
   "cell_type": "code",
   "execution_count": 33,
   "metadata": {},
   "outputs": [
    {
     "data": {
      "text/html": [
       "<div>\n",
       "<style scoped>\n",
       "    .dataframe tbody tr th:only-of-type {\n",
       "        vertical-align: middle;\n",
       "    }\n",
       "\n",
       "    .dataframe tbody tr th {\n",
       "        vertical-align: top;\n",
       "    }\n",
       "\n",
       "    .dataframe thead th {\n",
       "        text-align: right;\n",
       "    }\n",
       "</style>\n",
       "<table border=\"1\" class=\"dataframe\">\n",
       "  <thead>\n",
       "    <tr style=\"text-align: right;\">\n",
       "      <th></th>\n",
       "      <th>MealID</th>\n",
       "      <th>MealName</th>\n",
       "      <th>Carb</th>\n",
       "      <th>Protein</th>\n",
       "      <th>Veg</th>\n",
       "      <th>Ease</th>\n",
       "      <th>Rating</th>\n",
       "    </tr>\n",
       "  </thead>\n",
       "  <tbody>\n",
       "  </tbody>\n",
       "</table>\n",
       "</div>"
      ],
      "text/plain": [
       "Empty DataFrame\n",
       "Columns: [MealID, MealName, Carb, Protein, Veg, Ease, Rating]\n",
       "Index: []"
      ]
     },
     "execution_count": 33,
     "metadata": {},
     "output_type": "execute_result"
    }
   ],
   "source": [
    "list_col = df_meals.columns.tolist()\n",
    "#list_col\n",
    "df_multi = pd.DataFrame(columns=list_col)\n",
    "df_multi"
   ]
  },
  {
   "cell_type": "code",
   "execution_count": 34,
   "metadata": {},
   "outputs": [
    {
     "data": {
      "text/html": [
       "<div>\n",
       "<style scoped>\n",
       "    .dataframe tbody tr th:only-of-type {\n",
       "        vertical-align: middle;\n",
       "    }\n",
       "\n",
       "    .dataframe tbody tr th {\n",
       "        vertical-align: top;\n",
       "    }\n",
       "\n",
       "    .dataframe thead th {\n",
       "        text-align: right;\n",
       "    }\n",
       "</style>\n",
       "<table border=\"1\" class=\"dataframe\">\n",
       "  <thead>\n",
       "    <tr style=\"text-align: right;\">\n",
       "      <th></th>\n",
       "      <th>MealID</th>\n",
       "      <th>MealName</th>\n",
       "      <th>Carb</th>\n",
       "      <th>Protein</th>\n",
       "      <th>Veg</th>\n",
       "      <th>Ease</th>\n",
       "      <th>Rating</th>\n",
       "    </tr>\n",
       "  </thead>\n",
       "  <tbody>\n",
       "    <tr>\n",
       "      <th>0</th>\n",
       "      <td>1</td>\n",
       "      <td>Falafel</td>\n",
       "      <td>bread</td>\n",
       "      <td>veg</td>\n",
       "      <td>Cucumber</td>\n",
       "      <td>moderate</td>\n",
       "      <td>2</td>\n",
       "    </tr>\n",
       "    <tr>\n",
       "      <th>1</th>\n",
       "      <td>1</td>\n",
       "      <td>Falafel</td>\n",
       "      <td>bread</td>\n",
       "      <td>veg</td>\n",
       "      <td>Cucumber</td>\n",
       "      <td>moderate</td>\n",
       "      <td>2</td>\n",
       "    </tr>\n",
       "    <tr>\n",
       "      <th>2</th>\n",
       "      <td>2</td>\n",
       "      <td>Caesar salad</td>\n",
       "      <td>bread</td>\n",
       "      <td>chicken</td>\n",
       "      <td>salad</td>\n",
       "      <td>quick</td>\n",
       "      <td>2</td>\n",
       "    </tr>\n",
       "    <tr>\n",
       "      <th>3</th>\n",
       "      <td>2</td>\n",
       "      <td>Caesar salad</td>\n",
       "      <td>bread</td>\n",
       "      <td>chicken</td>\n",
       "      <td>salad</td>\n",
       "      <td>quick</td>\n",
       "      <td>2</td>\n",
       "    </tr>\n",
       "    <tr>\n",
       "      <th>4</th>\n",
       "      <td>3</td>\n",
       "      <td>Greek pork chops</td>\n",
       "      <td>potatoes</td>\n",
       "      <td>pork</td>\n",
       "      <td>salad</td>\n",
       "      <td>quick</td>\n",
       "      <td>2</td>\n",
       "    </tr>\n",
       "    <tr>\n",
       "      <th>5</th>\n",
       "      <td>3</td>\n",
       "      <td>Greek pork chops</td>\n",
       "      <td>potatoes</td>\n",
       "      <td>pork</td>\n",
       "      <td>salad</td>\n",
       "      <td>quick</td>\n",
       "      <td>2</td>\n",
       "    </tr>\n",
       "    <tr>\n",
       "      <th>6</th>\n",
       "      <td>4</td>\n",
       "      <td>Stir-fry</td>\n",
       "      <td>rice/noodles</td>\n",
       "      <td>any</td>\n",
       "      <td>mixed</td>\n",
       "      <td>quick</td>\n",
       "      <td>3</td>\n",
       "    </tr>\n",
       "    <tr>\n",
       "      <th>7</th>\n",
       "      <td>4</td>\n",
       "      <td>Stir-fry</td>\n",
       "      <td>rice/noodles</td>\n",
       "      <td>any</td>\n",
       "      <td>mixed</td>\n",
       "      <td>quick</td>\n",
       "      <td>3</td>\n",
       "    </tr>\n",
       "    <tr>\n",
       "      <th>8</th>\n",
       "      <td>4</td>\n",
       "      <td>Stir-fry</td>\n",
       "      <td>rice/noodles</td>\n",
       "      <td>any</td>\n",
       "      <td>mixed</td>\n",
       "      <td>quick</td>\n",
       "      <td>3</td>\n",
       "    </tr>\n",
       "    <tr>\n",
       "      <th>9</th>\n",
       "      <td>5</td>\n",
       "      <td>Spaghetti carbonera</td>\n",
       "      <td>noodles</td>\n",
       "      <td>bacon</td>\n",
       "      <td>peas</td>\n",
       "      <td>quick</td>\n",
       "      <td>3</td>\n",
       "    </tr>\n",
       "  </tbody>\n",
       "</table>\n",
       "</div>"
      ],
      "text/plain": [
       "  MealID             MealName          Carb  Protein       Veg      Ease  \\\n",
       "0      1              Falafel         bread      veg  Cucumber  moderate   \n",
       "1      1              Falafel         bread      veg  Cucumber  moderate   \n",
       "2      2         Caesar salad         bread  chicken     salad     quick   \n",
       "3      2         Caesar salad         bread  chicken     salad     quick   \n",
       "4      3     Greek pork chops      potatoes     pork     salad     quick   \n",
       "5      3     Greek pork chops      potatoes     pork     salad     quick   \n",
       "6      4             Stir-fry  rice/noodles      any     mixed     quick   \n",
       "7      4             Stir-fry  rice/noodles      any     mixed     quick   \n",
       "8      4             Stir-fry  rice/noodles      any     mixed     quick   \n",
       "9      5  Spaghetti carbonera       noodles    bacon      peas     quick   \n",
       "\n",
       "  Rating  \n",
       "0      2  \n",
       "1      2  \n",
       "2      2  \n",
       "3      2  \n",
       "4      2  \n",
       "5      2  \n",
       "6      3  \n",
       "7      3  \n",
       "8      3  \n",
       "9      3  "
      ]
     },
     "execution_count": 34,
     "metadata": {},
     "output_type": "execute_result"
    }
   ],
   "source": [
    "# loop thru df\n",
    "for index, row in df_meals.iterrows():\n",
    "     for i in range(row['Rating']):\n",
    "            #print(index, row['MealName'], row['Rating'])\n",
    "            df_multi = df_multi.append(\n",
    "                {\n",
    "                    'MealID': row['MealID'], \n",
    "                    'MealName': row['MealName'], \n",
    "                    'Carb': row['Carb'],\n",
    "                    'Protein': row['Protein'],\n",
    "                    'Veg': row['Veg'],\n",
    "                    'Ease': row['Ease'],\n",
    "                    'Rating': row['Rating']\n",
    "                },\n",
    "                ignore_index=True\n",
    "            )\n",
    "            \n",
    "df_multi.head(10)"
   ]
  },
  {
   "cell_type": "code",
   "execution_count": 35,
   "metadata": {},
   "outputs": [
    {
     "data": {
      "text/plain": [
       "(78, 7)"
      ]
     },
     "execution_count": 35,
     "metadata": {},
     "output_type": "execute_result"
    }
   ],
   "source": [
    "df_multi.shape"
   ]
  },
  {
   "cell_type": "markdown",
   "metadata": {},
   "source": [
    "### split into sub-lists"
   ]
  },
  {
   "cell_type": "code",
   "execution_count": 36,
   "metadata": {},
   "outputs": [
    {
     "data": {
      "text/html": [
       "<div>\n",
       "<style scoped>\n",
       "    .dataframe tbody tr th:only-of-type {\n",
       "        vertical-align: middle;\n",
       "    }\n",
       "\n",
       "    .dataframe tbody tr th {\n",
       "        vertical-align: top;\n",
       "    }\n",
       "\n",
       "    .dataframe thead th {\n",
       "        text-align: right;\n",
       "    }\n",
       "</style>\n",
       "<table border=\"1\" class=\"dataframe\">\n",
       "  <thead>\n",
       "    <tr style=\"text-align: right;\">\n",
       "      <th></th>\n",
       "      <th>MealID</th>\n",
       "      <th>MealName</th>\n",
       "      <th>Carb</th>\n",
       "      <th>Protein</th>\n",
       "      <th>Veg</th>\n",
       "      <th>Ease</th>\n",
       "      <th>Rating</th>\n",
       "    </tr>\n",
       "  </thead>\n",
       "  <tbody>\n",
       "    <tr>\n",
       "      <th>0</th>\n",
       "      <td>1</td>\n",
       "      <td>Falafel</td>\n",
       "      <td>bread</td>\n",
       "      <td>veg</td>\n",
       "      <td>Cucumber</td>\n",
       "      <td>moderate</td>\n",
       "      <td>2</td>\n",
       "    </tr>\n",
       "    <tr>\n",
       "      <th>1</th>\n",
       "      <td>1</td>\n",
       "      <td>Falafel</td>\n",
       "      <td>bread</td>\n",
       "      <td>veg</td>\n",
       "      <td>Cucumber</td>\n",
       "      <td>moderate</td>\n",
       "      <td>2</td>\n",
       "    </tr>\n",
       "    <tr>\n",
       "      <th>2</th>\n",
       "      <td>14</td>\n",
       "      <td>Thai green curry</td>\n",
       "      <td>rice</td>\n",
       "      <td>any</td>\n",
       "      <td>mixed</td>\n",
       "      <td>moderate</td>\n",
       "      <td>1</td>\n",
       "    </tr>\n",
       "    <tr>\n",
       "      <th>3</th>\n",
       "      <td>15</td>\n",
       "      <td>40 clove garlic chicken</td>\n",
       "      <td>potatoes</td>\n",
       "      <td>chicken</td>\n",
       "      <td>any</td>\n",
       "      <td>complex</td>\n",
       "      <td>2</td>\n",
       "    </tr>\n",
       "    <tr>\n",
       "      <th>4</th>\n",
       "      <td>15</td>\n",
       "      <td>40 clove garlic chicken</td>\n",
       "      <td>potatoes</td>\n",
       "      <td>chicken</td>\n",
       "      <td>any</td>\n",
       "      <td>complex</td>\n",
       "      <td>2</td>\n",
       "    </tr>\n",
       "  </tbody>\n",
       "</table>\n",
       "</div>"
      ],
      "text/plain": [
       "  MealID                 MealName      Carb  Protein       Veg      Ease  \\\n",
       "0      1                  Falafel     bread      veg  Cucumber  moderate   \n",
       "1      1                  Falafel     bread      veg  Cucumber  moderate   \n",
       "2     14         Thai green curry      rice      any     mixed  moderate   \n",
       "3     15  40 clove garlic chicken  potatoes  chicken       any   complex   \n",
       "4     15  40 clove garlic chicken  potatoes  chicken       any   complex   \n",
       "\n",
       "  Rating  \n",
       "0      2  \n",
       "1      2  \n",
       "2      1  \n",
       "3      2  \n",
       "4      2  "
      ]
     },
     "execution_count": 36,
     "metadata": {},
     "output_type": "execute_result"
    }
   ],
   "source": [
    "df_moderate = df_multi[(df_multi['Ease'] == \"moderate\") | (df_multi['Ease'] == \"complex\") | (df_multi['Ease'] == \"slow cooker\")].reset_index(drop=True)\n",
    "df_moderate.head()"
   ]
  },
  {
   "cell_type": "code",
   "execution_count": 18,
   "metadata": {},
   "outputs": [
    {
     "data": {
      "text/plain": [
       "(29, 7)"
      ]
     },
     "execution_count": 18,
     "metadata": {},
     "output_type": "execute_result"
    }
   ],
   "source": [
    "df_moderate.shape"
   ]
  },
  {
   "cell_type": "code",
   "execution_count": 37,
   "metadata": {
    "scrolled": true
   },
   "outputs": [
    {
     "data": {
      "text/html": [
       "<div>\n",
       "<style scoped>\n",
       "    .dataframe tbody tr th:only-of-type {\n",
       "        vertical-align: middle;\n",
       "    }\n",
       "\n",
       "    .dataframe tbody tr th {\n",
       "        vertical-align: top;\n",
       "    }\n",
       "\n",
       "    .dataframe thead th {\n",
       "        text-align: right;\n",
       "    }\n",
       "</style>\n",
       "<table border=\"1\" class=\"dataframe\">\n",
       "  <thead>\n",
       "    <tr style=\"text-align: right;\">\n",
       "      <th></th>\n",
       "      <th>MealID</th>\n",
       "      <th>MealName</th>\n",
       "      <th>Carb</th>\n",
       "      <th>Protein</th>\n",
       "      <th>Veg</th>\n",
       "      <th>Ease</th>\n",
       "      <th>Rating</th>\n",
       "    </tr>\n",
       "  </thead>\n",
       "  <tbody>\n",
       "    <tr>\n",
       "      <th>0</th>\n",
       "      <td>2</td>\n",
       "      <td>Caesar salad</td>\n",
       "      <td>bread</td>\n",
       "      <td>chicken</td>\n",
       "      <td>salad</td>\n",
       "      <td>quick</td>\n",
       "      <td>2</td>\n",
       "    </tr>\n",
       "    <tr>\n",
       "      <th>1</th>\n",
       "      <td>2</td>\n",
       "      <td>Caesar salad</td>\n",
       "      <td>bread</td>\n",
       "      <td>chicken</td>\n",
       "      <td>salad</td>\n",
       "      <td>quick</td>\n",
       "      <td>2</td>\n",
       "    </tr>\n",
       "    <tr>\n",
       "      <th>2</th>\n",
       "      <td>3</td>\n",
       "      <td>Greek pork chops</td>\n",
       "      <td>potatoes</td>\n",
       "      <td>pork</td>\n",
       "      <td>salad</td>\n",
       "      <td>quick</td>\n",
       "      <td>2</td>\n",
       "    </tr>\n",
       "    <tr>\n",
       "      <th>3</th>\n",
       "      <td>3</td>\n",
       "      <td>Greek pork chops</td>\n",
       "      <td>potatoes</td>\n",
       "      <td>pork</td>\n",
       "      <td>salad</td>\n",
       "      <td>quick</td>\n",
       "      <td>2</td>\n",
       "    </tr>\n",
       "    <tr>\n",
       "      <th>4</th>\n",
       "      <td>4</td>\n",
       "      <td>Stir-fry</td>\n",
       "      <td>rice/noodles</td>\n",
       "      <td>any</td>\n",
       "      <td>mixed</td>\n",
       "      <td>quick</td>\n",
       "      <td>3</td>\n",
       "    </tr>\n",
       "  </tbody>\n",
       "</table>\n",
       "</div>"
      ],
      "text/plain": [
       "  MealID          MealName          Carb  Protein    Veg   Ease Rating\n",
       "0      2      Caesar salad         bread  chicken  salad  quick      2\n",
       "1      2      Caesar salad         bread  chicken  salad  quick      2\n",
       "2      3  Greek pork chops      potatoes     pork  salad  quick      2\n",
       "3      3  Greek pork chops      potatoes     pork  salad  quick      2\n",
       "4      4          Stir-fry  rice/noodles      any  mixed  quick      3"
      ]
     },
     "execution_count": 37,
     "metadata": {},
     "output_type": "execute_result"
    }
   ],
   "source": [
    "df_easy = df_multi[df_multi['Ease'] == \"quick\"].reset_index(drop=True)\n",
    "df_easy.head()"
   ]
  },
  {
   "cell_type": "code",
   "execution_count": 38,
   "metadata": {},
   "outputs": [
    {
     "data": {
      "text/plain": [
       "(51, 7)"
      ]
     },
     "execution_count": 38,
     "metadata": {},
     "output_type": "execute_result"
    }
   ],
   "source": [
    "df_easy.shape"
   ]
  },
  {
   "cell_type": "code",
   "execution_count": 39,
   "metadata": {},
   "outputs": [
    {
     "data": {
      "text/html": [
       "<div>\n",
       "<style scoped>\n",
       "    .dataframe tbody tr th:only-of-type {\n",
       "        vertical-align: middle;\n",
       "    }\n",
       "\n",
       "    .dataframe tbody tr th {\n",
       "        vertical-align: top;\n",
       "    }\n",
       "\n",
       "    .dataframe thead th {\n",
       "        text-align: right;\n",
       "    }\n",
       "</style>\n",
       "<table border=\"1\" class=\"dataframe\">\n",
       "  <thead>\n",
       "    <tr style=\"text-align: right;\">\n",
       "      <th></th>\n",
       "      <th>MealID</th>\n",
       "      <th>MealName</th>\n",
       "      <th>Carb</th>\n",
       "      <th>Protein</th>\n",
       "      <th>Veg</th>\n",
       "      <th>Ease</th>\n",
       "      <th>Rating</th>\n",
       "    </tr>\n",
       "  </thead>\n",
       "  <tbody>\n",
       "    <tr>\n",
       "      <th>0</th>\n",
       "      <td>6</td>\n",
       "      <td>Asian chili ginger salmon</td>\n",
       "      <td>noodles</td>\n",
       "      <td>fish</td>\n",
       "      <td>broccoli/peas</td>\n",
       "      <td>quick</td>\n",
       "      <td>3</td>\n",
       "    </tr>\n",
       "    <tr>\n",
       "      <th>1</th>\n",
       "      <td>6</td>\n",
       "      <td>Asian chili ginger salmon</td>\n",
       "      <td>noodles</td>\n",
       "      <td>fish</td>\n",
       "      <td>broccoli/peas</td>\n",
       "      <td>quick</td>\n",
       "      <td>3</td>\n",
       "    </tr>\n",
       "    <tr>\n",
       "      <th>2</th>\n",
       "      <td>6</td>\n",
       "      <td>Asian chili ginger salmon</td>\n",
       "      <td>noodles</td>\n",
       "      <td>fish</td>\n",
       "      <td>broccoli/peas</td>\n",
       "      <td>quick</td>\n",
       "      <td>3</td>\n",
       "    </tr>\n",
       "    <tr>\n",
       "      <th>3</th>\n",
       "      <td>7</td>\n",
       "      <td>Garlic butter salmon pasta</td>\n",
       "      <td>noodles</td>\n",
       "      <td>fish</td>\n",
       "      <td>broccoli/peas</td>\n",
       "      <td>quick</td>\n",
       "      <td>3</td>\n",
       "    </tr>\n",
       "    <tr>\n",
       "      <th>4</th>\n",
       "      <td>7</td>\n",
       "      <td>Garlic butter salmon pasta</td>\n",
       "      <td>noodles</td>\n",
       "      <td>fish</td>\n",
       "      <td>broccoli/peas</td>\n",
       "      <td>quick</td>\n",
       "      <td>3</td>\n",
       "    </tr>\n",
       "  </tbody>\n",
       "</table>\n",
       "</div>"
      ],
      "text/plain": [
       "  MealID                    MealName     Carb Protein            Veg   Ease  \\\n",
       "0      6   Asian chili ginger salmon  noodles    fish  broccoli/peas  quick   \n",
       "1      6   Asian chili ginger salmon  noodles    fish  broccoli/peas  quick   \n",
       "2      6   Asian chili ginger salmon  noodles    fish  broccoli/peas  quick   \n",
       "3      7  Garlic butter salmon pasta  noodles    fish  broccoli/peas  quick   \n",
       "4      7  Garlic butter salmon pasta  noodles    fish  broccoli/peas  quick   \n",
       "\n",
       "  Rating  \n",
       "0      3  \n",
       "1      3  \n",
       "2      3  \n",
       "3      3  \n",
       "4      3  "
      ]
     },
     "execution_count": 39,
     "metadata": {},
     "output_type": "execute_result"
    }
   ],
   "source": [
    "df_fish = df_multi[df_multi['Protein'] == \"fish\"].reset_index(drop=True)\n",
    "df_fish.head()"
   ]
  },
  {
   "cell_type": "code",
   "execution_count": 40,
   "metadata": {},
   "outputs": [
    {
     "data": {
      "text/plain": [
       "(13, 7)"
      ]
     },
     "execution_count": 40,
     "metadata": {},
     "output_type": "execute_result"
    }
   ],
   "source": [
    "df_fish.shape"
   ]
  },
  {
   "cell_type": "code",
   "execution_count": 41,
   "metadata": {},
   "outputs": [
    {
     "data": {
      "text/html": [
       "<div>\n",
       "<style scoped>\n",
       "    .dataframe tbody tr th:only-of-type {\n",
       "        vertical-align: middle;\n",
       "    }\n",
       "\n",
       "    .dataframe tbody tr th {\n",
       "        vertical-align: top;\n",
       "    }\n",
       "\n",
       "    .dataframe thead th {\n",
       "        text-align: right;\n",
       "    }\n",
       "</style>\n",
       "<table border=\"1\" class=\"dataframe\">\n",
       "  <thead>\n",
       "    <tr style=\"text-align: right;\">\n",
       "      <th></th>\n",
       "      <th>MealID</th>\n",
       "      <th>MealName</th>\n",
       "      <th>Carb</th>\n",
       "      <th>Protein</th>\n",
       "      <th>Veg</th>\n",
       "      <th>Ease</th>\n",
       "      <th>Rating</th>\n",
       "    </tr>\n",
       "  </thead>\n",
       "  <tbody>\n",
       "    <tr>\n",
       "      <th>0</th>\n",
       "      <td>1</td>\n",
       "      <td>Falafel</td>\n",
       "      <td>bread</td>\n",
       "      <td>veg</td>\n",
       "      <td>Cucumber</td>\n",
       "      <td>moderate</td>\n",
       "      <td>2</td>\n",
       "    </tr>\n",
       "    <tr>\n",
       "      <th>1</th>\n",
       "      <td>1</td>\n",
       "      <td>Falafel</td>\n",
       "      <td>bread</td>\n",
       "      <td>veg</td>\n",
       "      <td>Cucumber</td>\n",
       "      <td>moderate</td>\n",
       "      <td>2</td>\n",
       "    </tr>\n",
       "    <tr>\n",
       "      <th>2</th>\n",
       "      <td>8</td>\n",
       "      <td>Black bean bowls</td>\n",
       "      <td>rice</td>\n",
       "      <td>veg</td>\n",
       "      <td>avocado</td>\n",
       "      <td>quick</td>\n",
       "      <td>3</td>\n",
       "    </tr>\n",
       "    <tr>\n",
       "      <th>3</th>\n",
       "      <td>8</td>\n",
       "      <td>Black bean bowls</td>\n",
       "      <td>rice</td>\n",
       "      <td>veg</td>\n",
       "      <td>avocado</td>\n",
       "      <td>quick</td>\n",
       "      <td>3</td>\n",
       "    </tr>\n",
       "    <tr>\n",
       "      <th>4</th>\n",
       "      <td>8</td>\n",
       "      <td>Black bean bowls</td>\n",
       "      <td>rice</td>\n",
       "      <td>veg</td>\n",
       "      <td>avocado</td>\n",
       "      <td>quick</td>\n",
       "      <td>3</td>\n",
       "    </tr>\n",
       "  </tbody>\n",
       "</table>\n",
       "</div>"
      ],
      "text/plain": [
       "  MealID          MealName   Carb Protein       Veg      Ease Rating\n",
       "0      1           Falafel  bread     veg  Cucumber  moderate      2\n",
       "1      1           Falafel  bread     veg  Cucumber  moderate      2\n",
       "2      8  Black bean bowls   rice     veg   avocado     quick      3\n",
       "3      8  Black bean bowls   rice     veg   avocado     quick      3\n",
       "4      8  Black bean bowls   rice     veg   avocado     quick      3"
      ]
     },
     "execution_count": 41,
     "metadata": {},
     "output_type": "execute_result"
    }
   ],
   "source": [
    "df_veg = df_multi[df_multi['Protein'] == \"veg\"].reset_index(drop=True)\n",
    "df_veg.head()"
   ]
  },
  {
   "cell_type": "code",
   "execution_count": 42,
   "metadata": {},
   "outputs": [
    {
     "data": {
      "text/html": [
       "<div>\n",
       "<style scoped>\n",
       "    .dataframe tbody tr th:only-of-type {\n",
       "        vertical-align: middle;\n",
       "    }\n",
       "\n",
       "    .dataframe tbody tr th {\n",
       "        vertical-align: top;\n",
       "    }\n",
       "\n",
       "    .dataframe thead th {\n",
       "        text-align: right;\n",
       "    }\n",
       "</style>\n",
       "<table border=\"1\" class=\"dataframe\">\n",
       "  <thead>\n",
       "    <tr style=\"text-align: right;\">\n",
       "      <th></th>\n",
       "      <th>MealID</th>\n",
       "      <th>MealName</th>\n",
       "      <th>Carb</th>\n",
       "      <th>Protein</th>\n",
       "      <th>Veg</th>\n",
       "      <th>Ease</th>\n",
       "      <th>Rating</th>\n",
       "    </tr>\n",
       "  </thead>\n",
       "  <tbody>\n",
       "    <tr>\n",
       "      <th>0</th>\n",
       "      <td>1</td>\n",
       "      <td>Falafel</td>\n",
       "      <td>bread</td>\n",
       "      <td>veg</td>\n",
       "      <td>Cucumber</td>\n",
       "      <td>moderate</td>\n",
       "      <td>2</td>\n",
       "    </tr>\n",
       "    <tr>\n",
       "      <th>1</th>\n",
       "      <td>1</td>\n",
       "      <td>Falafel</td>\n",
       "      <td>bread</td>\n",
       "      <td>veg</td>\n",
       "      <td>Cucumber</td>\n",
       "      <td>moderate</td>\n",
       "      <td>2</td>\n",
       "    </tr>\n",
       "  </tbody>\n",
       "</table>\n",
       "</div>"
      ],
      "text/plain": [
       "  MealID MealName   Carb Protein       Veg      Ease Rating\n",
       "0      1  Falafel  bread     veg  Cucumber  moderate      2\n",
       "1      1  Falafel  bread     veg  Cucumber  moderate      2"
      ]
     },
     "execution_count": 42,
     "metadata": {},
     "output_type": "execute_result"
    }
   ],
   "source": [
    "df_multi[df_multi['MealName'] == 'Falafel']"
   ]
  },
  {
   "cell_type": "markdown",
   "metadata": {},
   "source": [
    "### randomly select 1 moderate/hard recipe"
   ]
  },
  {
   "cell_type": "code",
   "execution_count": 43,
   "metadata": {},
   "outputs": [
    {
     "data": {
      "text/plain": [
       "27"
      ]
     },
     "execution_count": 43,
     "metadata": {},
     "output_type": "execute_result"
    }
   ],
   "source": [
    "# get recipe count\n",
    "moderate_ct = df_moderate.shape[0]\n",
    "moderate_ct"
   ]
  },
  {
   "cell_type": "code",
   "execution_count": 55,
   "metadata": {},
   "outputs": [
    {
     "name": "stdout",
     "output_type": "stream",
     "text": [
      "MealID                           15\n",
      "MealName    40 clove garlic chicken\n",
      "Carb                       potatoes\n",
      "Protein                     chicken\n",
      "Veg                             any\n",
      "Ease                        complex\n",
      "Rating                            2\n",
      "Name: 4, dtype: object\n"
     ]
    }
   ],
   "source": [
    "rng = np.random.default_rng()\n",
    "rints = rng.integers(low=0, high=moderate_ct, size=1)\n",
    "print(df_moderate.loc[rints[0]])"
   ]
  },
  {
   "cell_type": "code",
   "execution_count": 57,
   "metadata": {},
   "outputs": [
    {
     "data": {
      "text/html": [
       "<div>\n",
       "<style scoped>\n",
       "    .dataframe tbody tr th:only-of-type {\n",
       "        vertical-align: middle;\n",
       "    }\n",
       "\n",
       "    .dataframe tbody tr th {\n",
       "        vertical-align: top;\n",
       "    }\n",
       "\n",
       "    .dataframe thead th {\n",
       "        text-align: right;\n",
       "    }\n",
       "</style>\n",
       "<table border=\"1\" class=\"dataframe\">\n",
       "  <thead>\n",
       "    <tr style=\"text-align: right;\">\n",
       "      <th></th>\n",
       "      <th>MealID</th>\n",
       "      <th>MealName</th>\n",
       "      <th>Carb</th>\n",
       "      <th>Protein</th>\n",
       "      <th>Veg</th>\n",
       "      <th>Ease</th>\n",
       "      <th>Rating</th>\n",
       "    </tr>\n",
       "  </thead>\n",
       "  <tbody>\n",
       "    <tr>\n",
       "      <th>14</th>\n",
       "      <td>15</td>\n",
       "      <td>40 clove garlic chicken</td>\n",
       "      <td>potatoes</td>\n",
       "      <td>chicken</td>\n",
       "      <td>any</td>\n",
       "      <td>complex</td>\n",
       "      <td>2</td>\n",
       "    </tr>\n",
       "  </tbody>\n",
       "</table>\n",
       "</div>"
      ],
      "text/plain": [
       "    MealID                 MealName      Carb  Protein  Veg     Ease  Rating\n",
       "14      15  40 clove garlic chicken  potatoes  chicken  any  complex       2"
      ]
     },
     "execution_count": 57,
     "metadata": {},
     "output_type": "execute_result"
    }
   ],
   "source": [
    "df_this_week = df_meals[df_meals['MealID'] == df_moderate.loc[rints[0]].MealID]\n",
    "df_this_week"
   ]
  },
  {
   "cell_type": "markdown",
   "metadata": {},
   "source": [
    "### find the carb of the selected moderate/hard recipe and remove from fish"
   ]
  },
  {
   "cell_type": "code",
   "execution_count": 58,
   "metadata": {},
   "outputs": [
    {
     "data": {
      "text/plain": [
       "14    potatoes\n",
       "Name: Carb, dtype: object"
      ]
     },
     "execution_count": 58,
     "metadata": {},
     "output_type": "execute_result"
    }
   ],
   "source": [
    "df_this_week['Carb']"
   ]
  },
  {
   "cell_type": "code",
   "execution_count": 59,
   "metadata": {
    "scrolled": true
   },
   "outputs": [
    {
     "data": {
      "text/html": [
       "<div>\n",
       "<style scoped>\n",
       "    .dataframe tbody tr th:only-of-type {\n",
       "        vertical-align: middle;\n",
       "    }\n",
       "\n",
       "    .dataframe tbody tr th {\n",
       "        vertical-align: top;\n",
       "    }\n",
       "\n",
       "    .dataframe thead th {\n",
       "        text-align: right;\n",
       "    }\n",
       "</style>\n",
       "<table border=\"1\" class=\"dataframe\">\n",
       "  <thead>\n",
       "    <tr style=\"text-align: right;\">\n",
       "      <th></th>\n",
       "      <th>MealID</th>\n",
       "      <th>MealName</th>\n",
       "      <th>Carb</th>\n",
       "      <th>Protein</th>\n",
       "      <th>Veg</th>\n",
       "      <th>Ease</th>\n",
       "      <th>Rating</th>\n",
       "    </tr>\n",
       "  </thead>\n",
       "  <tbody>\n",
       "    <tr>\n",
       "      <th>0</th>\n",
       "      <td>6</td>\n",
       "      <td>Asian chili ginger salmon</td>\n",
       "      <td>noodles</td>\n",
       "      <td>fish</td>\n",
       "      <td>broccoli/peas</td>\n",
       "      <td>quick</td>\n",
       "      <td>3</td>\n",
       "    </tr>\n",
       "    <tr>\n",
       "      <th>1</th>\n",
       "      <td>6</td>\n",
       "      <td>Asian chili ginger salmon</td>\n",
       "      <td>noodles</td>\n",
       "      <td>fish</td>\n",
       "      <td>broccoli/peas</td>\n",
       "      <td>quick</td>\n",
       "      <td>3</td>\n",
       "    </tr>\n",
       "    <tr>\n",
       "      <th>2</th>\n",
       "      <td>6</td>\n",
       "      <td>Asian chili ginger salmon</td>\n",
       "      <td>noodles</td>\n",
       "      <td>fish</td>\n",
       "      <td>broccoli/peas</td>\n",
       "      <td>quick</td>\n",
       "      <td>3</td>\n",
       "    </tr>\n",
       "    <tr>\n",
       "      <th>3</th>\n",
       "      <td>7</td>\n",
       "      <td>Garlic butter salmon pasta</td>\n",
       "      <td>noodles</td>\n",
       "      <td>fish</td>\n",
       "      <td>broccoli/peas</td>\n",
       "      <td>quick</td>\n",
       "      <td>3</td>\n",
       "    </tr>\n",
       "    <tr>\n",
       "      <th>4</th>\n",
       "      <td>7</td>\n",
       "      <td>Garlic butter salmon pasta</td>\n",
       "      <td>noodles</td>\n",
       "      <td>fish</td>\n",
       "      <td>broccoli/peas</td>\n",
       "      <td>quick</td>\n",
       "      <td>3</td>\n",
       "    </tr>\n",
       "    <tr>\n",
       "      <th>5</th>\n",
       "      <td>7</td>\n",
       "      <td>Garlic butter salmon pasta</td>\n",
       "      <td>noodles</td>\n",
       "      <td>fish</td>\n",
       "      <td>broccoli/peas</td>\n",
       "      <td>quick</td>\n",
       "      <td>3</td>\n",
       "    </tr>\n",
       "    <tr>\n",
       "      <th>6</th>\n",
       "      <td>11</td>\n",
       "      <td>Fish Tacos</td>\n",
       "      <td>tortillas</td>\n",
       "      <td>fish</td>\n",
       "      <td>avocado</td>\n",
       "      <td>quick</td>\n",
       "      <td>3</td>\n",
       "    </tr>\n",
       "    <tr>\n",
       "      <th>7</th>\n",
       "      <td>11</td>\n",
       "      <td>Fish Tacos</td>\n",
       "      <td>tortillas</td>\n",
       "      <td>fish</td>\n",
       "      <td>avocado</td>\n",
       "      <td>quick</td>\n",
       "      <td>3</td>\n",
       "    </tr>\n",
       "    <tr>\n",
       "      <th>8</th>\n",
       "      <td>11</td>\n",
       "      <td>Fish Tacos</td>\n",
       "      <td>tortillas</td>\n",
       "      <td>fish</td>\n",
       "      <td>avocado</td>\n",
       "      <td>quick</td>\n",
       "      <td>3</td>\n",
       "    </tr>\n",
       "    <tr>\n",
       "      <th>9</th>\n",
       "      <td>18</td>\n",
       "      <td>Creole fish &amp; corn stew</td>\n",
       "      <td>rice</td>\n",
       "      <td>fish</td>\n",
       "      <td>corn</td>\n",
       "      <td>slow cooker</td>\n",
       "      <td>1</td>\n",
       "    </tr>\n",
       "    <tr>\n",
       "      <th>10</th>\n",
       "      <td>31</td>\n",
       "      <td>Salmon egg fried rice</td>\n",
       "      <td>rice</td>\n",
       "      <td>fish</td>\n",
       "      <td>carrots &amp; peas</td>\n",
       "      <td>quick</td>\n",
       "      <td>3</td>\n",
       "    </tr>\n",
       "    <tr>\n",
       "      <th>11</th>\n",
       "      <td>31</td>\n",
       "      <td>Salmon egg fried rice</td>\n",
       "      <td>rice</td>\n",
       "      <td>fish</td>\n",
       "      <td>carrots &amp; peas</td>\n",
       "      <td>quick</td>\n",
       "      <td>3</td>\n",
       "    </tr>\n",
       "    <tr>\n",
       "      <th>12</th>\n",
       "      <td>31</td>\n",
       "      <td>Salmon egg fried rice</td>\n",
       "      <td>rice</td>\n",
       "      <td>fish</td>\n",
       "      <td>carrots &amp; peas</td>\n",
       "      <td>quick</td>\n",
       "      <td>3</td>\n",
       "    </tr>\n",
       "  </tbody>\n",
       "</table>\n",
       "</div>"
      ],
      "text/plain": [
       "   MealID                    MealName       Carb Protein             Veg  \\\n",
       "0       6   Asian chili ginger salmon    noodles    fish   broccoli/peas   \n",
       "1       6   Asian chili ginger salmon    noodles    fish   broccoli/peas   \n",
       "2       6   Asian chili ginger salmon    noodles    fish   broccoli/peas   \n",
       "3       7  Garlic butter salmon pasta    noodles    fish   broccoli/peas   \n",
       "4       7  Garlic butter salmon pasta    noodles    fish   broccoli/peas   \n",
       "5       7  Garlic butter salmon pasta    noodles    fish   broccoli/peas   \n",
       "6      11                  Fish Tacos  tortillas    fish         avocado   \n",
       "7      11                  Fish Tacos  tortillas    fish         avocado   \n",
       "8      11                  Fish Tacos  tortillas    fish         avocado   \n",
       "9      18     Creole fish & corn stew       rice    fish            corn   \n",
       "10     31       Salmon egg fried rice       rice    fish  carrots & peas   \n",
       "11     31       Salmon egg fried rice       rice    fish  carrots & peas   \n",
       "12     31       Salmon egg fried rice       rice    fish  carrots & peas   \n",
       "\n",
       "           Ease Rating  \n",
       "0         quick      3  \n",
       "1         quick      3  \n",
       "2         quick      3  \n",
       "3         quick      3  \n",
       "4         quick      3  \n",
       "5         quick      3  \n",
       "6         quick      3  \n",
       "7         quick      3  \n",
       "8         quick      3  \n",
       "9   slow cooker      1  \n",
       "10        quick      3  \n",
       "11        quick      3  \n",
       "12        quick      3  "
      ]
     },
     "execution_count": 59,
     "metadata": {},
     "output_type": "execute_result"
    }
   ],
   "source": [
    "#df_easy = df_easy[df_easy['Carb'] != carb_list[0]]\n",
    "#df_easy = df_easy[df_easy['Carb'] != df_this_week['Carb']]\n",
    "#df_easy.head()\n",
    "#df_easy['Carb'].values != df_this_week['Carb'].values\n",
    "#df_fish[df_fish['Carb'].values != df_this_week['Carb'].values]\n",
    "df_fish = df_fish[df_fish['Carb'].values != df_this_week['Carb'].values].reset_index(drop=True)\n",
    "df_fish"
   ]
  },
  {
   "cell_type": "code",
   "execution_count": 60,
   "metadata": {},
   "outputs": [
    {
     "data": {
      "text/plain": [
       "13"
      ]
     },
     "execution_count": 60,
     "metadata": {},
     "output_type": "execute_result"
    }
   ],
   "source": [
    "fish_ct = df_fish.shape[0]\n",
    "fish_ct"
   ]
  },
  {
   "cell_type": "markdown",
   "metadata": {},
   "source": [
    "### select 1 fish recipe"
   ]
  },
  {
   "cell_type": "code",
   "execution_count": 61,
   "metadata": {},
   "outputs": [
    {
     "data": {
      "text/plain": [
       "MealID                         31\n",
       "MealName    Salmon egg fried rice\n",
       "Carb                         rice\n",
       "Protein                      fish\n",
       "Veg                carrots & peas\n",
       "Ease                        quick\n",
       "Rating                          3\n",
       "Name: 12, dtype: object"
      ]
     },
     "execution_count": 61,
     "metadata": {},
     "output_type": "execute_result"
    }
   ],
   "source": [
    "rints = rng.integers(low=0, high=fish_ct, size=1)\n",
    "#rints[0]\n",
    "#df_fish.loc[1]\n",
    "df_fish.loc[rints[0]]"
   ]
  },
  {
   "cell_type": "code",
   "execution_count": 62,
   "metadata": {},
   "outputs": [
    {
     "data": {
      "text/html": [
       "<div>\n",
       "<style scoped>\n",
       "    .dataframe tbody tr th:only-of-type {\n",
       "        vertical-align: middle;\n",
       "    }\n",
       "\n",
       "    .dataframe tbody tr th {\n",
       "        vertical-align: top;\n",
       "    }\n",
       "\n",
       "    .dataframe thead th {\n",
       "        text-align: right;\n",
       "    }\n",
       "</style>\n",
       "<table border=\"1\" class=\"dataframe\">\n",
       "  <thead>\n",
       "    <tr style=\"text-align: right;\">\n",
       "      <th></th>\n",
       "      <th>MealID</th>\n",
       "      <th>MealName</th>\n",
       "      <th>Carb</th>\n",
       "      <th>Protein</th>\n",
       "      <th>Veg</th>\n",
       "      <th>Ease</th>\n",
       "      <th>Rating</th>\n",
       "    </tr>\n",
       "  </thead>\n",
       "  <tbody>\n",
       "    <tr>\n",
       "      <th>14</th>\n",
       "      <td>15</td>\n",
       "      <td>40 clove garlic chicken</td>\n",
       "      <td>potatoes</td>\n",
       "      <td>chicken</td>\n",
       "      <td>any</td>\n",
       "      <td>complex</td>\n",
       "      <td>2</td>\n",
       "    </tr>\n",
       "    <tr>\n",
       "      <th>30</th>\n",
       "      <td>31</td>\n",
       "      <td>Salmon egg fried rice</td>\n",
       "      <td>rice</td>\n",
       "      <td>fish</td>\n",
       "      <td>carrots &amp; peas</td>\n",
       "      <td>quick</td>\n",
       "      <td>3</td>\n",
       "    </tr>\n",
       "  </tbody>\n",
       "</table>\n",
       "</div>"
      ],
      "text/plain": [
       "    MealID                 MealName      Carb  Protein             Veg  \\\n",
       "14      15  40 clove garlic chicken  potatoes  chicken             any   \n",
       "30      31    Salmon egg fried rice      rice     fish  carrots & peas   \n",
       "\n",
       "       Ease  Rating  \n",
       "14  complex       2  \n",
       "30    quick       3  "
      ]
     },
     "execution_count": 62,
     "metadata": {},
     "output_type": "execute_result"
    }
   ],
   "source": [
    "df_this_week = df_this_week.append(df_meals[df_meals['MealID'] == df_fish.loc[rints[0]].MealID])\n",
    "df_this_week"
   ]
  },
  {
   "cell_type": "markdown",
   "metadata": {},
   "source": [
    "### remove carb from veg recipes"
   ]
  },
  {
   "cell_type": "code",
   "execution_count": 63,
   "metadata": {},
   "outputs": [
    {
     "data": {
      "text/html": [
       "<div>\n",
       "<style scoped>\n",
       "    .dataframe tbody tr th:only-of-type {\n",
       "        vertical-align: middle;\n",
       "    }\n",
       "\n",
       "    .dataframe tbody tr th {\n",
       "        vertical-align: top;\n",
       "    }\n",
       "\n",
       "    .dataframe thead th {\n",
       "        text-align: right;\n",
       "    }\n",
       "</style>\n",
       "<table border=\"1\" class=\"dataframe\">\n",
       "  <thead>\n",
       "    <tr style=\"text-align: right;\">\n",
       "      <th></th>\n",
       "      <th>MealID</th>\n",
       "      <th>MealName</th>\n",
       "      <th>Carb</th>\n",
       "      <th>Protein</th>\n",
       "      <th>Veg</th>\n",
       "      <th>Ease</th>\n",
       "      <th>Rating</th>\n",
       "    </tr>\n",
       "  </thead>\n",
       "  <tbody>\n",
       "    <tr>\n",
       "      <th>0</th>\n",
       "      <td>1</td>\n",
       "      <td>Falafel</td>\n",
       "      <td>bread</td>\n",
       "      <td>veg</td>\n",
       "      <td>Cucumber</td>\n",
       "      <td>moderate</td>\n",
       "      <td>2</td>\n",
       "    </tr>\n",
       "    <tr>\n",
       "      <th>1</th>\n",
       "      <td>1</td>\n",
       "      <td>Falafel</td>\n",
       "      <td>bread</td>\n",
       "      <td>veg</td>\n",
       "      <td>Cucumber</td>\n",
       "      <td>moderate</td>\n",
       "      <td>2</td>\n",
       "    </tr>\n",
       "    <tr>\n",
       "      <th>7</th>\n",
       "      <td>27</td>\n",
       "      <td>Quinoa primavera</td>\n",
       "      <td>quinoa</td>\n",
       "      <td>veg</td>\n",
       "      <td>mixed</td>\n",
       "      <td>quick</td>\n",
       "      <td>1</td>\n",
       "    </tr>\n",
       "  </tbody>\n",
       "</table>\n",
       "</div>"
      ],
      "text/plain": [
       "  MealID          MealName    Carb Protein       Veg      Ease Rating\n",
       "0      1           Falafel   bread     veg  Cucumber  moderate      2\n",
       "1      1           Falafel   bread     veg  Cucumber  moderate      2\n",
       "7     27  Quinoa primavera  quinoa     veg     mixed     quick      1"
      ]
     },
     "execution_count": 63,
     "metadata": {},
     "output_type": "execute_result"
    }
   ],
   "source": [
    "#df_this_week['Carb'].values\n",
    "#df_veg['Carb'].values\n",
    "#df_veg['Carb'].values != df_this_week['Carb'].values\n",
    "#df_veg['Carb'].isin(df_this_week['Carb'].values)\n",
    "#condition = df_veg['Carb'].isin(df_this_week['Carb'].values)\n",
    "#condition\n",
    "#df_veg[~condition]\n",
    "#df_veg[~df_veg['Carb'].isin(df_this_week['Carb'].values)]\n",
    "#df_veg[df_veg['Carb'].values != df_this_week['Carb'].values]\n",
    "#df_veg = df_veg[df_veg['Carb'].values != df_this_week['Carb'].values]\n",
    "df_veg = df_veg[~df_veg['Carb'].isin(df_this_week['Carb'].values)]\n",
    "df_veg"
   ]
  },
  {
   "cell_type": "code",
   "execution_count": 64,
   "metadata": {},
   "outputs": [
    {
     "data": {
      "text/plain": [
       "3"
      ]
     },
     "execution_count": 64,
     "metadata": {},
     "output_type": "execute_result"
    }
   ],
   "source": [
    "veg_ct = df_veg.shape[0]\n",
    "veg_ct"
   ]
  },
  {
   "cell_type": "markdown",
   "metadata": {},
   "source": [
    "### select 1 veg recipe"
   ]
  },
  {
   "cell_type": "code",
   "execution_count": 65,
   "metadata": {},
   "outputs": [
    {
     "data": {
      "text/plain": [
       "MealID             1\n",
       "MealName     Falafel\n",
       "Carb           bread\n",
       "Protein          veg\n",
       "Veg         Cucumber\n",
       "Ease        moderate\n",
       "Rating             2\n",
       "Name: 0, dtype: object"
      ]
     },
     "execution_count": 65,
     "metadata": {},
     "output_type": "execute_result"
    }
   ],
   "source": [
    "rints = rng.integers(low=0, high=veg_ct, size=1)\n",
    "df_veg.loc[rints[0]]"
   ]
  },
  {
   "cell_type": "code",
   "execution_count": 66,
   "metadata": {},
   "outputs": [
    {
     "data": {
      "text/html": [
       "<div>\n",
       "<style scoped>\n",
       "    .dataframe tbody tr th:only-of-type {\n",
       "        vertical-align: middle;\n",
       "    }\n",
       "\n",
       "    .dataframe tbody tr th {\n",
       "        vertical-align: top;\n",
       "    }\n",
       "\n",
       "    .dataframe thead th {\n",
       "        text-align: right;\n",
       "    }\n",
       "</style>\n",
       "<table border=\"1\" class=\"dataframe\">\n",
       "  <thead>\n",
       "    <tr style=\"text-align: right;\">\n",
       "      <th></th>\n",
       "      <th>MealID</th>\n",
       "      <th>MealName</th>\n",
       "      <th>Carb</th>\n",
       "      <th>Protein</th>\n",
       "      <th>Veg</th>\n",
       "      <th>Ease</th>\n",
       "      <th>Rating</th>\n",
       "    </tr>\n",
       "  </thead>\n",
       "  <tbody>\n",
       "    <tr>\n",
       "      <th>14</th>\n",
       "      <td>15</td>\n",
       "      <td>40 clove garlic chicken</td>\n",
       "      <td>potatoes</td>\n",
       "      <td>chicken</td>\n",
       "      <td>any</td>\n",
       "      <td>complex</td>\n",
       "      <td>2</td>\n",
       "    </tr>\n",
       "    <tr>\n",
       "      <th>30</th>\n",
       "      <td>31</td>\n",
       "      <td>Salmon egg fried rice</td>\n",
       "      <td>rice</td>\n",
       "      <td>fish</td>\n",
       "      <td>carrots &amp; peas</td>\n",
       "      <td>quick</td>\n",
       "      <td>3</td>\n",
       "    </tr>\n",
       "    <tr>\n",
       "      <th>0</th>\n",
       "      <td>1</td>\n",
       "      <td>Falafel</td>\n",
       "      <td>bread</td>\n",
       "      <td>veg</td>\n",
       "      <td>Cucumber</td>\n",
       "      <td>moderate</td>\n",
       "      <td>2</td>\n",
       "    </tr>\n",
       "  </tbody>\n",
       "</table>\n",
       "</div>"
      ],
      "text/plain": [
       "    MealID                 MealName      Carb  Protein             Veg  \\\n",
       "14      15  40 clove garlic chicken  potatoes  chicken             any   \n",
       "30      31    Salmon egg fried rice      rice     fish  carrots & peas   \n",
       "0        1                  Falafel     bread      veg        Cucumber   \n",
       "\n",
       "        Ease  Rating  \n",
       "14   complex       2  \n",
       "30     quick       3  \n",
       "0   moderate       2  "
      ]
     },
     "execution_count": 66,
     "metadata": {},
     "output_type": "execute_result"
    }
   ],
   "source": [
    "#df_meals[df_meals['MealID'] == df_fish.loc[rints[0]].MealID]\n",
    "#df_choice = df_meals[df_meals['MealID'] == df_veg.loc[rints[0]].MealID]\n",
    "#df_choice\n",
    "#df_this_week = df_this_week.append(df_choice)\n",
    "#df_this_week.append(df_meals[df_meals['MealID'] == df_veg.loc[rints[0]].MealID])\n",
    "df_this_week = df_this_week.append(df_meals[df_meals['MealID'] == df_veg.loc[rints[0]].MealID])\n",
    "df_this_week"
   ]
  },
  {
   "cell_type": "markdown",
   "metadata": {},
   "source": [
    "### randomly select 1 easy recipe"
   ]
  },
  {
   "cell_type": "code",
   "execution_count": 68,
   "metadata": {
    "scrolled": true
   },
   "outputs": [
    {
     "data": {
      "text/plain": [
       "MealID                 4\n",
       "MealName        Stir-fry\n",
       "Carb        rice/noodles\n",
       "Protein              any\n",
       "Veg                mixed\n",
       "Ease               quick\n",
       "Rating                 3\n",
       "Name: 5, dtype: object"
      ]
     },
     "execution_count": 68,
     "metadata": {},
     "output_type": "execute_result"
    }
   ],
   "source": [
    "easy_ct = df_easy.shape[0]\n",
    "rints = rng.integers(low=0, high=easy_ct, size=1)\n",
    "#rints[0]\n",
    "df_easy.loc[rints[0]]"
   ]
  },
  {
   "cell_type": "code",
   "execution_count": 69,
   "metadata": {},
   "outputs": [
    {
     "data": {
      "text/html": [
       "<div>\n",
       "<style scoped>\n",
       "    .dataframe tbody tr th:only-of-type {\n",
       "        vertical-align: middle;\n",
       "    }\n",
       "\n",
       "    .dataframe tbody tr th {\n",
       "        vertical-align: top;\n",
       "    }\n",
       "\n",
       "    .dataframe thead th {\n",
       "        text-align: right;\n",
       "    }\n",
       "</style>\n",
       "<table border=\"1\" class=\"dataframe\">\n",
       "  <thead>\n",
       "    <tr style=\"text-align: right;\">\n",
       "      <th></th>\n",
       "      <th>MealID</th>\n",
       "      <th>MealName</th>\n",
       "      <th>Carb</th>\n",
       "      <th>Protein</th>\n",
       "      <th>Veg</th>\n",
       "      <th>Ease</th>\n",
       "      <th>Rating</th>\n",
       "    </tr>\n",
       "  </thead>\n",
       "  <tbody>\n",
       "    <tr>\n",
       "      <th>14</th>\n",
       "      <td>15</td>\n",
       "      <td>40 clove garlic chicken</td>\n",
       "      <td>potatoes</td>\n",
       "      <td>chicken</td>\n",
       "      <td>any</td>\n",
       "      <td>complex</td>\n",
       "      <td>2</td>\n",
       "    </tr>\n",
       "    <tr>\n",
       "      <th>30</th>\n",
       "      <td>31</td>\n",
       "      <td>Salmon egg fried rice</td>\n",
       "      <td>rice</td>\n",
       "      <td>fish</td>\n",
       "      <td>carrots &amp; peas</td>\n",
       "      <td>quick</td>\n",
       "      <td>3</td>\n",
       "    </tr>\n",
       "    <tr>\n",
       "      <th>0</th>\n",
       "      <td>1</td>\n",
       "      <td>Falafel</td>\n",
       "      <td>bread</td>\n",
       "      <td>veg</td>\n",
       "      <td>Cucumber</td>\n",
       "      <td>moderate</td>\n",
       "      <td>2</td>\n",
       "    </tr>\n",
       "    <tr>\n",
       "      <th>3</th>\n",
       "      <td>4</td>\n",
       "      <td>Stir-fry</td>\n",
       "      <td>rice/noodles</td>\n",
       "      <td>any</td>\n",
       "      <td>mixed</td>\n",
       "      <td>quick</td>\n",
       "      <td>3</td>\n",
       "    </tr>\n",
       "  </tbody>\n",
       "</table>\n",
       "</div>"
      ],
      "text/plain": [
       "    MealID                 MealName          Carb  Protein             Veg  \\\n",
       "14      15  40 clove garlic chicken      potatoes  chicken             any   \n",
       "30      31    Salmon egg fried rice          rice     fish  carrots & peas   \n",
       "0        1                  Falafel         bread      veg        Cucumber   \n",
       "3        4                 Stir-fry  rice/noodles      any           mixed   \n",
       "\n",
       "        Ease  Rating  \n",
       "14   complex       2  \n",
       "30     quick       3  \n",
       "0   moderate       2  \n",
       "3      quick       3  "
      ]
     },
     "execution_count": 69,
     "metadata": {},
     "output_type": "execute_result"
    }
   ],
   "source": [
    "df_this_week = df_this_week.append(df_meals[df_meals['MealID'] == df_easy.loc[rints[0]].MealID])\n",
    "df_this_week"
   ]
  },
  {
   "cell_type": "markdown",
   "metadata": {},
   "source": [
    "### if any recipe is null, start over"
   ]
  },
  {
   "cell_type": "code",
   "execution_count": 70,
   "metadata": {},
   "outputs": [
    {
     "data": {
      "text/plain": [
       "4"
      ]
     },
     "execution_count": 70,
     "metadata": {},
     "output_type": "execute_result"
    }
   ],
   "source": [
    "df_this_week.shape[0]"
   ]
  },
  {
   "cell_type": "code",
   "execution_count": 71,
   "metadata": {},
   "outputs": [
    {
     "name": "stdout",
     "output_type": "stream",
     "text": [
      "14    40 clove garlic chicken\n",
      "30      Salmon egg fried rice\n",
      "0                     Falafel\n",
      "3                    Stir-fry\n",
      "Name: MealName, dtype: object\n"
     ]
    }
   ],
   "source": [
    "if (df_this_week.shape[0] < recipe_count):\n",
    "    print(\"Oops, I need to start over!\")\n",
    "else:\n",
    "    print(df_this_week['MealName'])"
   ]
  },
  {
   "cell_type": "code",
   "execution_count": null,
   "metadata": {},
   "outputs": [],
   "source": [
    "# print selected recipes"
   ]
  },
  {
   "cell_type": "markdown",
   "metadata": {},
   "source": [
    "### prompt user to accept recipes"
   ]
  },
  {
   "cell_type": "code",
   "execution_count": null,
   "metadata": {},
   "outputs": [],
   "source": [
    "while True:\n",
    "    answer = input(\"Are you happy with this selection? Y or N\")\n",
    "    cap_answer = answer.upper()\n",
    "    if (cap_answer == 'Y') or (cap_answer == 'N'):\n",
    "        break"
   ]
  },
  {
   "cell_type": "code",
   "execution_count": null,
   "metadata": {},
   "outputs": [],
   "source": [
    "# if a recipe is rejected, \n",
    "#   1. if moderate/hard receipe rejected, prompt user if prefer an easy one\n",
    "#   2. recreate new list (so the rejected carb can be selected again) and select another random recipe"
   ]
  },
  {
   "cell_type": "code",
   "execution_count": null,
   "metadata": {},
   "outputs": [],
   "source": [
    "# after 3 recipes generated and accepted, print shopping list"
   ]
  }
 ],
 "metadata": {
  "kernelspec": {
   "display_name": "Python 3",
   "language": "python",
   "name": "python3"
  },
  "language_info": {
   "codemirror_mode": {
    "name": "ipython",
    "version": 3
   },
   "file_extension": ".py",
   "mimetype": "text/x-python",
   "name": "python",
   "nbconvert_exporter": "python",
   "pygments_lexer": "ipython3",
   "version": "3.8.5"
  }
 },
 "nbformat": 4,
 "nbformat_minor": 4
}
