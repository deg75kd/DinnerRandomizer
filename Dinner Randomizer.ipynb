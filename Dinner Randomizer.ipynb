{
 "cells": [
  {
   "cell_type": "code",
   "execution_count": 21,
   "metadata": {},
   "outputs": [],
   "source": [
    "import pandas as pd\n",
    "import numpy as np"
   ]
  },
  {
   "cell_type": "code",
   "execution_count": 100,
   "metadata": {},
   "outputs": [],
   "source": [
    "recipe_list = []"
   ]
  },
  {
   "cell_type": "markdown",
   "metadata": {},
   "source": [
    "### pull recipes"
   ]
  },
  {
   "cell_type": "code",
   "execution_count": 5,
   "metadata": {},
   "outputs": [],
   "source": [
    "# xlsx_path = 'C:\\Users\\Kevin\\DS\\Dinner Randomizer\\meals.xlsx'\n",
    "xlsx_path = 'meals.xlsx'\n",
    "df_meals = pd.read_excel(xlsx_path)"
   ]
  },
  {
   "cell_type": "code",
   "execution_count": 6,
   "metadata": {},
   "outputs": [
    {
     "data": {
      "text/html": [
       "<div>\n",
       "<style scoped>\n",
       "    .dataframe tbody tr th:only-of-type {\n",
       "        vertical-align: middle;\n",
       "    }\n",
       "\n",
       "    .dataframe tbody tr th {\n",
       "        vertical-align: top;\n",
       "    }\n",
       "\n",
       "    .dataframe thead th {\n",
       "        text-align: right;\n",
       "    }\n",
       "</style>\n",
       "<table border=\"1\" class=\"dataframe\">\n",
       "  <thead>\n",
       "    <tr style=\"text-align: right;\">\n",
       "      <th></th>\n",
       "      <th>MealID</th>\n",
       "      <th>MealName</th>\n",
       "      <th>Carb</th>\n",
       "      <th>Protein</th>\n",
       "      <th>Veg</th>\n",
       "      <th>Ease</th>\n",
       "    </tr>\n",
       "  </thead>\n",
       "  <tbody>\n",
       "    <tr>\n",
       "      <th>0</th>\n",
       "      <td>1</td>\n",
       "      <td>Falafel</td>\n",
       "      <td>pita</td>\n",
       "      <td>beans</td>\n",
       "      <td>Cucumber</td>\n",
       "      <td>moderate</td>\n",
       "    </tr>\n",
       "    <tr>\n",
       "      <th>1</th>\n",
       "      <td>2</td>\n",
       "      <td>Caesar salad</td>\n",
       "      <td>NaN</td>\n",
       "      <td>chicken</td>\n",
       "      <td>salad</td>\n",
       "      <td>quick</td>\n",
       "    </tr>\n",
       "    <tr>\n",
       "      <th>2</th>\n",
       "      <td>3</td>\n",
       "      <td>Greek pork chops and salad</td>\n",
       "      <td>potatoes</td>\n",
       "      <td>pork</td>\n",
       "      <td>salad</td>\n",
       "      <td>quick</td>\n",
       "    </tr>\n",
       "    <tr>\n",
       "      <th>3</th>\n",
       "      <td>4</td>\n",
       "      <td>Stir-fry</td>\n",
       "      <td>rice/noodles</td>\n",
       "      <td>any</td>\n",
       "      <td>mixed</td>\n",
       "      <td>quick</td>\n",
       "    </tr>\n",
       "    <tr>\n",
       "      <th>4</th>\n",
       "      <td>5</td>\n",
       "      <td>Spaghetti carbonera</td>\n",
       "      <td>noodles</td>\n",
       "      <td>egg/bacon</td>\n",
       "      <td>peas</td>\n",
       "      <td>quick</td>\n",
       "    </tr>\n",
       "  </tbody>\n",
       "</table>\n",
       "</div>"
      ],
      "text/plain": [
       "   MealID                    MealName          Carb    Protein       Veg  \\\n",
       "0       1                     Falafel          pita      beans  Cucumber   \n",
       "1       2                Caesar salad           NaN    chicken     salad   \n",
       "2       3  Greek pork chops and salad      potatoes       pork     salad   \n",
       "3       4                    Stir-fry  rice/noodles        any     mixed   \n",
       "4       5         Spaghetti carbonera       noodles  egg/bacon      peas   \n",
       "\n",
       "       Ease  \n",
       "0  moderate  \n",
       "1     quick  \n",
       "2     quick  \n",
       "3     quick  \n",
       "4     quick  "
      ]
     },
     "execution_count": 6,
     "metadata": {},
     "output_type": "execute_result"
    }
   ],
   "source": [
    "df_meals.head()"
   ]
  },
  {
   "cell_type": "code",
   "execution_count": 35,
   "metadata": {},
   "outputs": [
    {
     "data": {
      "text/plain": [
       "MealID       int64\n",
       "MealName    object\n",
       "Carb        object\n",
       "Protein     object\n",
       "Veg         object\n",
       "Ease        object\n",
       "dtype: object"
      ]
     },
     "execution_count": 35,
     "metadata": {},
     "output_type": "execute_result"
    }
   ],
   "source": [
    "df_meals.dtypes"
   ]
  },
  {
   "cell_type": "markdown",
   "metadata": {},
   "source": [
    "### split into 2 lists: moderate/hard and easy"
   ]
  },
  {
   "cell_type": "code",
   "execution_count": 8,
   "metadata": {},
   "outputs": [
    {
     "data": {
      "text/html": [
       "<div>\n",
       "<style scoped>\n",
       "    .dataframe tbody tr th:only-of-type {\n",
       "        vertical-align: middle;\n",
       "    }\n",
       "\n",
       "    .dataframe tbody tr th {\n",
       "        vertical-align: top;\n",
       "    }\n",
       "\n",
       "    .dataframe thead th {\n",
       "        text-align: right;\n",
       "    }\n",
       "</style>\n",
       "<table border=\"1\" class=\"dataframe\">\n",
       "  <thead>\n",
       "    <tr style=\"text-align: right;\">\n",
       "      <th></th>\n",
       "      <th>MealID</th>\n",
       "      <th>MealName</th>\n",
       "      <th>Carb</th>\n",
       "      <th>Protein</th>\n",
       "      <th>Veg</th>\n",
       "      <th>Ease</th>\n",
       "    </tr>\n",
       "  </thead>\n",
       "  <tbody>\n",
       "    <tr>\n",
       "      <th>0</th>\n",
       "      <td>1</td>\n",
       "      <td>Falafel</td>\n",
       "      <td>pita</td>\n",
       "      <td>beans</td>\n",
       "      <td>Cucumber</td>\n",
       "      <td>moderate</td>\n",
       "    </tr>\n",
       "    <tr>\n",
       "      <th>12</th>\n",
       "      <td>13</td>\n",
       "      <td>Fried rice</td>\n",
       "      <td>rice</td>\n",
       "      <td>any</td>\n",
       "      <td>carrots &amp; peas</td>\n",
       "      <td>moderate</td>\n",
       "    </tr>\n",
       "    <tr>\n",
       "      <th>13</th>\n",
       "      <td>14</td>\n",
       "      <td>Thai green curry</td>\n",
       "      <td>rice</td>\n",
       "      <td>any</td>\n",
       "      <td>mixed</td>\n",
       "      <td>moderate</td>\n",
       "    </tr>\n",
       "    <tr>\n",
       "      <th>21</th>\n",
       "      <td>22</td>\n",
       "      <td>jambalaya</td>\n",
       "      <td>rice</td>\n",
       "      <td>chicken/sausage</td>\n",
       "      <td>peppers</td>\n",
       "      <td>moderate</td>\n",
       "    </tr>\n",
       "    <tr>\n",
       "      <th>22</th>\n",
       "      <td>23</td>\n",
       "      <td>Puerto Rican Rice</td>\n",
       "      <td>rice</td>\n",
       "      <td>pork</td>\n",
       "      <td>peppers</td>\n",
       "      <td>moderate</td>\n",
       "    </tr>\n",
       "    <tr>\n",
       "      <th>25</th>\n",
       "      <td>26</td>\n",
       "      <td>pad see ew</td>\n",
       "      <td>noodles</td>\n",
       "      <td>chicken</td>\n",
       "      <td>broccoli/peas</td>\n",
       "      <td>moderate</td>\n",
       "    </tr>\n",
       "    <tr>\n",
       "      <th>27</th>\n",
       "      <td>28</td>\n",
       "      <td>Risotto</td>\n",
       "      <td>rice</td>\n",
       "      <td>NaN</td>\n",
       "      <td>peas</td>\n",
       "      <td>moderate</td>\n",
       "    </tr>\n",
       "  </tbody>\n",
       "</table>\n",
       "</div>"
      ],
      "text/plain": [
       "    MealID           MealName     Carb          Protein             Veg  \\\n",
       "0        1            Falafel     pita            beans        Cucumber   \n",
       "12      13         Fried rice     rice              any  carrots & peas   \n",
       "13      14   Thai green curry     rice              any           mixed   \n",
       "21      22          jambalaya     rice  chicken/sausage         peppers   \n",
       "22      23  Puerto Rican Rice     rice             pork         peppers   \n",
       "25      26         pad see ew  noodles          chicken   broccoli/peas   \n",
       "27      28            Risotto     rice              NaN            peas   \n",
       "\n",
       "        Ease  \n",
       "0   moderate  \n",
       "12  moderate  \n",
       "13  moderate  \n",
       "21  moderate  \n",
       "22  moderate  \n",
       "25  moderate  \n",
       "27  moderate  "
      ]
     },
     "execution_count": 8,
     "metadata": {},
     "output_type": "execute_result"
    }
   ],
   "source": [
    "df_meals[df_meals['Ease'] == \"moderate\"]"
   ]
  },
  {
   "cell_type": "code",
   "execution_count": 15,
   "metadata": {},
   "outputs": [
    {
     "data": {
      "text/html": [
       "<div>\n",
       "<style scoped>\n",
       "    .dataframe tbody tr th:only-of-type {\n",
       "        vertical-align: middle;\n",
       "    }\n",
       "\n",
       "    .dataframe tbody tr th {\n",
       "        vertical-align: top;\n",
       "    }\n",
       "\n",
       "    .dataframe thead th {\n",
       "        text-align: right;\n",
       "    }\n",
       "</style>\n",
       "<table border=\"1\" class=\"dataframe\">\n",
       "  <thead>\n",
       "    <tr style=\"text-align: right;\">\n",
       "      <th></th>\n",
       "      <th>index</th>\n",
       "      <th>MealID</th>\n",
       "      <th>MealName</th>\n",
       "      <th>Carb</th>\n",
       "      <th>Protein</th>\n",
       "      <th>Veg</th>\n",
       "      <th>Ease</th>\n",
       "    </tr>\n",
       "  </thead>\n",
       "  <tbody>\n",
       "    <tr>\n",
       "      <th>0</th>\n",
       "      <td>0</td>\n",
       "      <td>1</td>\n",
       "      <td>Falafel</td>\n",
       "      <td>pita</td>\n",
       "      <td>beans</td>\n",
       "      <td>Cucumber</td>\n",
       "      <td>moderate</td>\n",
       "    </tr>\n",
       "    <tr>\n",
       "      <th>1</th>\n",
       "      <td>12</td>\n",
       "      <td>13</td>\n",
       "      <td>Fried rice</td>\n",
       "      <td>rice</td>\n",
       "      <td>any</td>\n",
       "      <td>carrots &amp; peas</td>\n",
       "      <td>moderate</td>\n",
       "    </tr>\n",
       "    <tr>\n",
       "      <th>2</th>\n",
       "      <td>13</td>\n",
       "      <td>14</td>\n",
       "      <td>Thai green curry</td>\n",
       "      <td>rice</td>\n",
       "      <td>any</td>\n",
       "      <td>mixed</td>\n",
       "      <td>moderate</td>\n",
       "    </tr>\n",
       "    <tr>\n",
       "      <th>3</th>\n",
       "      <td>14</td>\n",
       "      <td>15</td>\n",
       "      <td>40 clove garlic chicken</td>\n",
       "      <td>potatoes</td>\n",
       "      <td>chicken</td>\n",
       "      <td>any</td>\n",
       "      <td>complex</td>\n",
       "    </tr>\n",
       "    <tr>\n",
       "      <th>4</th>\n",
       "      <td>15</td>\n",
       "      <td>16</td>\n",
       "      <td>Quiche</td>\n",
       "      <td>crust</td>\n",
       "      <td>any</td>\n",
       "      <td>any</td>\n",
       "      <td>complex</td>\n",
       "    </tr>\n",
       "  </tbody>\n",
       "</table>\n",
       "</div>"
      ],
      "text/plain": [
       "   index  MealID                 MealName      Carb  Protein             Veg  \\\n",
       "0      0       1                  Falafel      pita    beans        Cucumber   \n",
       "1     12      13               Fried rice      rice      any  carrots & peas   \n",
       "2     13      14         Thai green curry      rice      any           mixed   \n",
       "3     14      15  40 clove garlic chicken  potatoes  chicken             any   \n",
       "4     15      16                   Quiche     crust      any             any   \n",
       "\n",
       "       Ease  \n",
       "0  moderate  \n",
       "1  moderate  \n",
       "2  moderate  \n",
       "3   complex  \n",
       "4   complex  "
      ]
     },
     "execution_count": 15,
     "metadata": {},
     "output_type": "execute_result"
    }
   ],
   "source": [
    "df_moderate = df_meals[(df_meals['Ease'] == \"moderate\") | (df_meals['Ease'] == \"complex\") | (df_meals['Ease'] == \"slow cooker\")].reset_index()\n",
    "df_moderate.head()"
   ]
  },
  {
   "cell_type": "code",
   "execution_count": 55,
   "metadata": {
    "scrolled": true
   },
   "outputs": [
    {
     "data": {
      "text/html": [
       "<div>\n",
       "<style scoped>\n",
       "    .dataframe tbody tr th:only-of-type {\n",
       "        vertical-align: middle;\n",
       "    }\n",
       "\n",
       "    .dataframe tbody tr th {\n",
       "        vertical-align: top;\n",
       "    }\n",
       "\n",
       "    .dataframe thead th {\n",
       "        text-align: right;\n",
       "    }\n",
       "</style>\n",
       "<table border=\"1\" class=\"dataframe\">\n",
       "  <thead>\n",
       "    <tr style=\"text-align: right;\">\n",
       "      <th></th>\n",
       "      <th>MealID</th>\n",
       "      <th>MealName</th>\n",
       "      <th>Carb</th>\n",
       "      <th>Protein</th>\n",
       "      <th>Veg</th>\n",
       "      <th>Ease</th>\n",
       "    </tr>\n",
       "  </thead>\n",
       "  <tbody>\n",
       "    <tr>\n",
       "      <th>1</th>\n",
       "      <td>2</td>\n",
       "      <td>Caesar salad</td>\n",
       "      <td>NaN</td>\n",
       "      <td>chicken</td>\n",
       "      <td>salad</td>\n",
       "      <td>quick</td>\n",
       "    </tr>\n",
       "    <tr>\n",
       "      <th>2</th>\n",
       "      <td>3</td>\n",
       "      <td>Greek pork chops and salad</td>\n",
       "      <td>potatoes</td>\n",
       "      <td>pork</td>\n",
       "      <td>salad</td>\n",
       "      <td>quick</td>\n",
       "    </tr>\n",
       "    <tr>\n",
       "      <th>3</th>\n",
       "      <td>4</td>\n",
       "      <td>Stir-fry</td>\n",
       "      <td>rice/noodles</td>\n",
       "      <td>any</td>\n",
       "      <td>mixed</td>\n",
       "      <td>quick</td>\n",
       "    </tr>\n",
       "    <tr>\n",
       "      <th>4</th>\n",
       "      <td>5</td>\n",
       "      <td>Spaghetti carbonera</td>\n",
       "      <td>noodles</td>\n",
       "      <td>egg/bacon</td>\n",
       "      <td>peas</td>\n",
       "      <td>quick</td>\n",
       "    </tr>\n",
       "    <tr>\n",
       "      <th>5</th>\n",
       "      <td>6</td>\n",
       "      <td>Asian chili ginger salmon</td>\n",
       "      <td>noodles</td>\n",
       "      <td>fish</td>\n",
       "      <td>broccoli/peas</td>\n",
       "      <td>quick</td>\n",
       "    </tr>\n",
       "  </tbody>\n",
       "</table>\n",
       "</div>"
      ],
      "text/plain": [
       "   MealID                    MealName          Carb    Protein            Veg  \\\n",
       "1       2                Caesar salad           NaN    chicken          salad   \n",
       "2       3  Greek pork chops and salad      potatoes       pork          salad   \n",
       "3       4                    Stir-fry  rice/noodles        any          mixed   \n",
       "4       5         Spaghetti carbonera       noodles  egg/bacon           peas   \n",
       "5       6   Asian chili ginger salmon       noodles       fish  broccoli/peas   \n",
       "\n",
       "    Ease  \n",
       "1  quick  \n",
       "2  quick  \n",
       "3  quick  \n",
       "4  quick  \n",
       "5  quick  "
      ]
     },
     "execution_count": 55,
     "metadata": {},
     "output_type": "execute_result"
    }
   ],
   "source": [
    "df_easy = df_meals[df_meals['Ease'] == \"quick\"]\n",
    "df_easy.head()"
   ]
  },
  {
   "cell_type": "markdown",
   "metadata": {},
   "source": [
    "### randomly select 1 moderate/hard recipe"
   ]
  },
  {
   "cell_type": "code",
   "execution_count": 28,
   "metadata": {},
   "outputs": [
    {
     "data": {
      "text/plain": [
       "15"
      ]
     },
     "execution_count": 28,
     "metadata": {},
     "output_type": "execute_result"
    }
   ],
   "source": [
    "# get recipe count\n",
    "moderate_ct = df_moderate.shape[0]\n",
    "moderate_ct"
   ]
  },
  {
   "cell_type": "code",
   "execution_count": 34,
   "metadata": {},
   "outputs": [
    {
     "data": {
      "text/plain": [
       "1"
      ]
     },
     "execution_count": 34,
     "metadata": {},
     "output_type": "execute_result"
    }
   ],
   "source": [
    "rng = np.random.default_rng()\n",
    "rints = rng.integers(low=0, high=moderate_ct, size=1)\n",
    "rints[0]"
   ]
  },
  {
   "cell_type": "code",
   "execution_count": 42,
   "metadata": {},
   "outputs": [
    {
     "name": "stdout",
     "output_type": "stream",
     "text": [
      "index                   12\n",
      "MealID                  13\n",
      "MealName        Fried rice\n",
      "Carb                  rice\n",
      "Protein                any\n",
      "Veg         carrots & peas\n",
      "Ease              moderate\n",
      "Name: 1, dtype: object\n"
     ]
    }
   ],
   "source": [
    "print(df_moderate.loc[rints[0]])"
   ]
  },
  {
   "cell_type": "code",
   "execution_count": 51,
   "metadata": {},
   "outputs": [
    {
     "name": "stdout",
     "output_type": "stream",
     "text": [
      "index                     13\n",
      "MealID                    14\n",
      "MealName    Thai green curry\n",
      "Carb                    rice\n",
      "Protein                  any\n",
      "Veg                    mixed\n",
      "Ease                moderate\n",
      "Name: 2, dtype: object\n"
     ]
    }
   ],
   "source": [
    "rng = np.random.default_rng()\n",
    "rints = rng.integers(low=0, high=moderate_ct, size=1)\n",
    "print(df_moderate.loc[rints[0]])"
   ]
  },
  {
   "cell_type": "markdown",
   "metadata": {},
   "source": [
    "Are you happy with this selection?"
   ]
  },
  {
   "cell_type": "code",
   "execution_count": 76,
   "metadata": {},
   "outputs": [
    {
     "name": "stdout",
     "output_type": "stream",
     "text": [
      "Are you happy with this selection? Y or Nf\n",
      "Are you happy with this selection? Y or Nd\n",
      "Are you happy with this selection? Y or Ny\n"
     ]
    }
   ],
   "source": [
    "while True:\n",
    "    answer = input(\"Are you happy with this selection? Y or N\")\n",
    "    cap_answer = answer.upper()\n",
    "    if (cap_answer == 'Y') or (cap_answer == 'N'):\n",
    "        break"
   ]
  },
  {
   "cell_type": "code",
   "execution_count": 101,
   "metadata": {},
   "outputs": [
    {
     "data": {
      "text/plain": [
       "[14]"
      ]
     },
     "execution_count": 101,
     "metadata": {},
     "output_type": "execute_result"
    }
   ],
   "source": [
    "df_moderate.loc[rints[0]].MealID\n",
    "recipe_list.append(df_moderate.loc[rints[0]].MealID)\n",
    "recipe_list"
   ]
  },
  {
   "cell_type": "code",
   "execution_count": 92,
   "metadata": {},
   "outputs": [
    {
     "data": {
      "text/html": [
       "<div>\n",
       "<style scoped>\n",
       "    .dataframe tbody tr th:only-of-type {\n",
       "        vertical-align: middle;\n",
       "    }\n",
       "\n",
       "    .dataframe tbody tr th {\n",
       "        vertical-align: top;\n",
       "    }\n",
       "\n",
       "    .dataframe thead th {\n",
       "        text-align: right;\n",
       "    }\n",
       "</style>\n",
       "<table border=\"1\" class=\"dataframe\">\n",
       "  <thead>\n",
       "    <tr style=\"text-align: right;\">\n",
       "      <th></th>\n",
       "      <th>index</th>\n",
       "      <th>MealID</th>\n",
       "      <th>MealName</th>\n",
       "      <th>Carb</th>\n",
       "      <th>Protein</th>\n",
       "      <th>Veg</th>\n",
       "      <th>Ease</th>\n",
       "    </tr>\n",
       "  </thead>\n",
       "  <tbody>\n",
       "    <tr>\n",
       "      <th>2</th>\n",
       "      <td>13</td>\n",
       "      <td>14</td>\n",
       "      <td>Thai green curry</td>\n",
       "      <td>rice</td>\n",
       "      <td>any</td>\n",
       "      <td>mixed</td>\n",
       "      <td>moderate</td>\n",
       "    </tr>\n",
       "  </tbody>\n",
       "</table>\n",
       "</div>"
      ],
      "text/plain": [
       "   index  MealID          MealName  Carb Protein    Veg      Ease\n",
       "2     13      14  Thai green curry  rice     any  mixed  moderate"
      ]
     },
     "execution_count": 92,
     "metadata": {},
     "output_type": "execute_result"
    }
   ],
   "source": [
    "df_this_week = df_moderate[df_moderate['MealID'] == df_moderate.loc[rints[0]].MealID]\n",
    "df_this_week"
   ]
  },
  {
   "cell_type": "markdown",
   "metadata": {},
   "source": [
    "### find the carb of the selected moderate/hard recipe and remove matching easy recipes"
   ]
  },
  {
   "cell_type": "code",
   "execution_count": 63,
   "metadata": {},
   "outputs": [
    {
     "data": {
      "text/plain": [
       "['rice']"
      ]
     },
     "execution_count": 63,
     "metadata": {},
     "output_type": "execute_result"
    }
   ],
   "source": [
    "#carb_list = []\n",
    "#carb_list = df_moderate.loc[rints[0]].Carb\n",
    "carb_list = [df_moderate.loc[rints[0]].Carb]\n",
    "carb_list"
   ]
  },
  {
   "cell_type": "code",
   "execution_count": 61,
   "metadata": {},
   "outputs": [
    {
     "data": {
      "text/plain": [
       "0    rice\n",
       "dtype: object"
      ]
     },
     "execution_count": 61,
     "metadata": {},
     "output_type": "execute_result"
    }
   ],
   "source": [
    "s_meal_carbs = pd.Series(carb_list)\n",
    "s_meal_carbs"
   ]
  },
  {
   "cell_type": "code",
   "execution_count": 66,
   "metadata": {
    "scrolled": true
   },
   "outputs": [
    {
     "data": {
      "text/html": [
       "<div>\n",
       "<style scoped>\n",
       "    .dataframe tbody tr th:only-of-type {\n",
       "        vertical-align: middle;\n",
       "    }\n",
       "\n",
       "    .dataframe tbody tr th {\n",
       "        vertical-align: top;\n",
       "    }\n",
       "\n",
       "    .dataframe thead th {\n",
       "        text-align: right;\n",
       "    }\n",
       "</style>\n",
       "<table border=\"1\" class=\"dataframe\">\n",
       "  <thead>\n",
       "    <tr style=\"text-align: right;\">\n",
       "      <th></th>\n",
       "      <th>MealID</th>\n",
       "      <th>MealName</th>\n",
       "      <th>Carb</th>\n",
       "      <th>Protein</th>\n",
       "      <th>Veg</th>\n",
       "      <th>Ease</th>\n",
       "    </tr>\n",
       "  </thead>\n",
       "  <tbody>\n",
       "    <tr>\n",
       "      <th>1</th>\n",
       "      <td>2</td>\n",
       "      <td>Caesar salad</td>\n",
       "      <td>NaN</td>\n",
       "      <td>chicken</td>\n",
       "      <td>salad</td>\n",
       "      <td>quick</td>\n",
       "    </tr>\n",
       "    <tr>\n",
       "      <th>2</th>\n",
       "      <td>3</td>\n",
       "      <td>Greek pork chops and salad</td>\n",
       "      <td>potatoes</td>\n",
       "      <td>pork</td>\n",
       "      <td>salad</td>\n",
       "      <td>quick</td>\n",
       "    </tr>\n",
       "    <tr>\n",
       "      <th>3</th>\n",
       "      <td>4</td>\n",
       "      <td>Stir-fry</td>\n",
       "      <td>rice/noodles</td>\n",
       "      <td>any</td>\n",
       "      <td>mixed</td>\n",
       "      <td>quick</td>\n",
       "    </tr>\n",
       "    <tr>\n",
       "      <th>4</th>\n",
       "      <td>5</td>\n",
       "      <td>Spaghetti carbonera</td>\n",
       "      <td>noodles</td>\n",
       "      <td>egg/bacon</td>\n",
       "      <td>peas</td>\n",
       "      <td>quick</td>\n",
       "    </tr>\n",
       "    <tr>\n",
       "      <th>5</th>\n",
       "      <td>6</td>\n",
       "      <td>Asian chili ginger salmon</td>\n",
       "      <td>noodles</td>\n",
       "      <td>fish</td>\n",
       "      <td>broccoli/peas</td>\n",
       "      <td>quick</td>\n",
       "    </tr>\n",
       "  </tbody>\n",
       "</table>\n",
       "</div>"
      ],
      "text/plain": [
       "   MealID                    MealName          Carb    Protein            Veg  \\\n",
       "1       2                Caesar salad           NaN    chicken          salad   \n",
       "2       3  Greek pork chops and salad      potatoes       pork          salad   \n",
       "3       4                    Stir-fry  rice/noodles        any          mixed   \n",
       "4       5         Spaghetti carbonera       noodles  egg/bacon           peas   \n",
       "5       6   Asian chili ginger salmon       noodles       fish  broccoli/peas   \n",
       "\n",
       "    Ease  \n",
       "1  quick  \n",
       "2  quick  \n",
       "3  quick  \n",
       "4  quick  \n",
       "5  quick  "
      ]
     },
     "execution_count": 66,
     "metadata": {},
     "output_type": "execute_result"
    }
   ],
   "source": [
    "df_easy = df_easy[df_easy['Carb'] != carb_list[0]]\n",
    "df_easy.head()"
   ]
  },
  {
   "cell_type": "code",
   "execution_count": 78,
   "metadata": {},
   "outputs": [
    {
     "data": {
      "text/plain": [
       "10"
      ]
     },
     "execution_count": 78,
     "metadata": {},
     "output_type": "execute_result"
    }
   ],
   "source": [
    "easy_ct = df_easy.shape[0]\n",
    "easy_ct"
   ]
  },
  {
   "cell_type": "markdown",
   "metadata": {},
   "source": [
    "### randomly select 1 easy recipe"
   ]
  },
  {
   "cell_type": "code",
   "execution_count": 82,
   "metadata": {
    "scrolled": true
   },
   "outputs": [
    {
     "data": {
      "text/plain": [
       "MealID                               3\n",
       "MealName    Greek pork chops and salad\n",
       "Carb                          potatoes\n",
       "Protein                           pork\n",
       "Veg                              salad\n",
       "Ease                             quick\n",
       "Name: 2, dtype: object"
      ]
     },
     "execution_count": 82,
     "metadata": {},
     "output_type": "execute_result"
    }
   ],
   "source": [
    "rints = rng.integers(low=0, high=easy_ct, size=1)\n",
    "#rints[0]\n",
    "df_easy.loc[rints[0]]"
   ]
  },
  {
   "cell_type": "code",
   "execution_count": 102,
   "metadata": {},
   "outputs": [
    {
     "data": {
      "text/plain": [
       "[14, 3]"
      ]
     },
     "execution_count": 102,
     "metadata": {},
     "output_type": "execute_result"
    }
   ],
   "source": [
    "recipe_list.append(df_easy.loc[rints[0]].MealID)\n",
    "recipe_list"
   ]
  },
  {
   "cell_type": "markdown",
   "metadata": {},
   "source": [
    "### find the carb of the selected easy recipe and remove matching recipes"
   ]
  },
  {
   "cell_type": "code",
   "execution_count": 83,
   "metadata": {},
   "outputs": [
    {
     "data": {
      "text/plain": [
       "['rice', 'potatoes']"
      ]
     },
     "execution_count": 83,
     "metadata": {},
     "output_type": "execute_result"
    }
   ],
   "source": [
    "carb_list.append(df_easy.loc[rints[0]].Carb)\n",
    "carb_list"
   ]
  },
  {
   "cell_type": "code",
   "execution_count": 84,
   "metadata": {},
   "outputs": [
    {
     "data": {
      "text/plain": [
       "'potatoes'"
      ]
     },
     "execution_count": 84,
     "metadata": {},
     "output_type": "execute_result"
    }
   ],
   "source": [
    "carb_list[1]"
   ]
  },
  {
   "cell_type": "code",
   "execution_count": 86,
   "metadata": {
    "scrolled": true
   },
   "outputs": [
    {
     "data": {
      "text/html": [
       "<div>\n",
       "<style scoped>\n",
       "    .dataframe tbody tr th:only-of-type {\n",
       "        vertical-align: middle;\n",
       "    }\n",
       "\n",
       "    .dataframe tbody tr th {\n",
       "        vertical-align: top;\n",
       "    }\n",
       "\n",
       "    .dataframe thead th {\n",
       "        text-align: right;\n",
       "    }\n",
       "</style>\n",
       "<table border=\"1\" class=\"dataframe\">\n",
       "  <thead>\n",
       "    <tr style=\"text-align: right;\">\n",
       "      <th></th>\n",
       "      <th>MealID</th>\n",
       "      <th>MealName</th>\n",
       "      <th>Carb</th>\n",
       "      <th>Protein</th>\n",
       "      <th>Veg</th>\n",
       "      <th>Ease</th>\n",
       "    </tr>\n",
       "  </thead>\n",
       "  <tbody>\n",
       "    <tr>\n",
       "      <th>1</th>\n",
       "      <td>2</td>\n",
       "      <td>Caesar salad</td>\n",
       "      <td>NaN</td>\n",
       "      <td>chicken</td>\n",
       "      <td>salad</td>\n",
       "      <td>quick</td>\n",
       "    </tr>\n",
       "    <tr>\n",
       "      <th>2</th>\n",
       "      <td>3</td>\n",
       "      <td>Greek pork chops and salad</td>\n",
       "      <td>potatoes</td>\n",
       "      <td>pork</td>\n",
       "      <td>salad</td>\n",
       "      <td>quick</td>\n",
       "    </tr>\n",
       "    <tr>\n",
       "      <th>3</th>\n",
       "      <td>4</td>\n",
       "      <td>Stir-fry</td>\n",
       "      <td>rice/noodles</td>\n",
       "      <td>any</td>\n",
       "      <td>mixed</td>\n",
       "      <td>quick</td>\n",
       "    </tr>\n",
       "    <tr>\n",
       "      <th>4</th>\n",
       "      <td>5</td>\n",
       "      <td>Spaghetti carbonera</td>\n",
       "      <td>noodles</td>\n",
       "      <td>egg/bacon</td>\n",
       "      <td>peas</td>\n",
       "      <td>quick</td>\n",
       "    </tr>\n",
       "    <tr>\n",
       "      <th>5</th>\n",
       "      <td>6</td>\n",
       "      <td>Asian chili ginger salmon</td>\n",
       "      <td>noodles</td>\n",
       "      <td>fish</td>\n",
       "      <td>broccoli/peas</td>\n",
       "      <td>quick</td>\n",
       "    </tr>\n",
       "  </tbody>\n",
       "</table>\n",
       "</div>"
      ],
      "text/plain": [
       "   MealID                    MealName          Carb    Protein            Veg  \\\n",
       "1       2                Caesar salad           NaN    chicken          salad   \n",
       "2       3  Greek pork chops and salad      potatoes       pork          salad   \n",
       "3       4                    Stir-fry  rice/noodles        any          mixed   \n",
       "4       5         Spaghetti carbonera       noodles  egg/bacon           peas   \n",
       "5       6   Asian chili ginger salmon       noodles       fish  broccoli/peas   \n",
       "\n",
       "    Ease  \n",
       "1  quick  \n",
       "2  quick  \n",
       "3  quick  \n",
       "4  quick  \n",
       "5  quick  "
      ]
     },
     "execution_count": 86,
     "metadata": {},
     "output_type": "execute_result"
    }
   ],
   "source": [
    "#df_easy[df_easy['Carb'] != carb_list[1]]\n",
    "df_easy = df_easy[df_easy['Carb'] != carb_list[0]]\n",
    "df_easy.head()"
   ]
  },
  {
   "cell_type": "markdown",
   "metadata": {},
   "source": [
    "### if a fish recipe not selected, remove non-fish meals from easy recipe list"
   ]
  },
  {
   "cell_type": "code",
   "execution_count": 107,
   "metadata": {},
   "outputs": [
    {
     "data": {
      "text/html": [
       "<div>\n",
       "<style scoped>\n",
       "    .dataframe tbody tr th:only-of-type {\n",
       "        vertical-align: middle;\n",
       "    }\n",
       "\n",
       "    .dataframe tbody tr th {\n",
       "        vertical-align: top;\n",
       "    }\n",
       "\n",
       "    .dataframe thead th {\n",
       "        text-align: right;\n",
       "    }\n",
       "</style>\n",
       "<table border=\"1\" class=\"dataframe\">\n",
       "  <thead>\n",
       "    <tr style=\"text-align: right;\">\n",
       "      <th></th>\n",
       "      <th>MealID</th>\n",
       "      <th>MealName</th>\n",
       "      <th>Carb</th>\n",
       "      <th>Protein</th>\n",
       "      <th>Veg</th>\n",
       "      <th>Ease</th>\n",
       "    </tr>\n",
       "  </thead>\n",
       "  <tbody>\n",
       "    <tr>\n",
       "      <th>2</th>\n",
       "      <td>3</td>\n",
       "      <td>Greek pork chops and salad</td>\n",
       "      <td>potatoes</td>\n",
       "      <td>pork</td>\n",
       "      <td>salad</td>\n",
       "      <td>quick</td>\n",
       "    </tr>\n",
       "    <tr>\n",
       "      <th>13</th>\n",
       "      <td>14</td>\n",
       "      <td>Thai green curry</td>\n",
       "      <td>rice</td>\n",
       "      <td>any</td>\n",
       "      <td>mixed</td>\n",
       "      <td>moderate</td>\n",
       "    </tr>\n",
       "  </tbody>\n",
       "</table>\n",
       "</div>"
      ],
      "text/plain": [
       "    MealID                    MealName      Carb Protein    Veg      Ease\n",
       "2        3  Greek pork chops and salad  potatoes    pork  salad     quick\n",
       "13      14            Thai green curry      rice     any  mixed  moderate"
      ]
     },
     "execution_count": 107,
     "metadata": {},
     "output_type": "execute_result"
    }
   ],
   "source": [
    "df_next_week = df_meals[(df_meals['MealID'] == recipe_list[0]) | (df_meals['MealID'] == recipe_list[1])]\n",
    "df_next_week"
   ]
  },
  {
   "cell_type": "code",
   "execution_count": 120,
   "metadata": {},
   "outputs": [
    {
     "data": {
      "text/plain": [
       "0"
      ]
     },
     "execution_count": 120,
     "metadata": {},
     "output_type": "execute_result"
    }
   ],
   "source": [
    "len(df_next_week[df_next_week['Protein'] == \"fish\"])"
   ]
  },
  {
   "cell_type": "code",
   "execution_count": 127,
   "metadata": {},
   "outputs": [
    {
     "name": "stdout",
     "output_type": "stream",
     "text": [
      "Choosing a fish recipe\n"
     ]
    },
    {
     "data": {
      "text/html": [
       "<div>\n",
       "<style scoped>\n",
       "    .dataframe tbody tr th:only-of-type {\n",
       "        vertical-align: middle;\n",
       "    }\n",
       "\n",
       "    .dataframe tbody tr th {\n",
       "        vertical-align: top;\n",
       "    }\n",
       "\n",
       "    .dataframe thead th {\n",
       "        text-align: right;\n",
       "    }\n",
       "</style>\n",
       "<table border=\"1\" class=\"dataframe\">\n",
       "  <thead>\n",
       "    <tr style=\"text-align: right;\">\n",
       "      <th></th>\n",
       "      <th>index</th>\n",
       "      <th>MealID</th>\n",
       "      <th>MealName</th>\n",
       "      <th>Carb</th>\n",
       "      <th>Protein</th>\n",
       "      <th>Veg</th>\n",
       "      <th>Ease</th>\n",
       "    </tr>\n",
       "  </thead>\n",
       "  <tbody>\n",
       "    <tr>\n",
       "      <th>0</th>\n",
       "      <td>5</td>\n",
       "      <td>6</td>\n",
       "      <td>Asian chili ginger salmon</td>\n",
       "      <td>noodles</td>\n",
       "      <td>fish</td>\n",
       "      <td>broccoli/peas</td>\n",
       "      <td>quick</td>\n",
       "    </tr>\n",
       "    <tr>\n",
       "      <th>1</th>\n",
       "      <td>6</td>\n",
       "      <td>7</td>\n",
       "      <td>Salmon pasta</td>\n",
       "      <td>noodles</td>\n",
       "      <td>fish</td>\n",
       "      <td>broccoli/peas</td>\n",
       "      <td>quick</td>\n",
       "    </tr>\n",
       "    <tr>\n",
       "      <th>2</th>\n",
       "      <td>10</td>\n",
       "      <td>11</td>\n",
       "      <td>Fish Tacos</td>\n",
       "      <td>tortillas</td>\n",
       "      <td>fish</td>\n",
       "      <td>avocado</td>\n",
       "      <td>quick</td>\n",
       "    </tr>\n",
       "  </tbody>\n",
       "</table>\n",
       "</div>"
      ],
      "text/plain": [
       "   index  MealID                   MealName       Carb Protein            Veg  \\\n",
       "0      5       6  Asian chili ginger salmon    noodles    fish  broccoli/peas   \n",
       "1      6       7               Salmon pasta    noodles    fish  broccoli/peas   \n",
       "2     10      11                 Fish Tacos  tortillas    fish        avocado   \n",
       "\n",
       "    Ease  \n",
       "0  quick  \n",
       "1  quick  \n",
       "2  quick  "
      ]
     },
     "execution_count": 127,
     "metadata": {},
     "output_type": "execute_result"
    }
   ],
   "source": [
    "if len(df_next_week[df_next_week['Protein'] == \"fish\"]) == 0:\n",
    "    print(\"Choosing a fish recipe\")\n",
    "    df_easy = df_easy[df_easy['Protein'] == \"fish\"].reset_index()\n",
    "    \n",
    "df_easy.head()"
   ]
  },
  {
   "cell_type": "code",
   "execution_count": 124,
   "metadata": {},
   "outputs": [
    {
     "data": {
      "text/plain": [
       "3"
      ]
     },
     "execution_count": 124,
     "metadata": {},
     "output_type": "execute_result"
    }
   ],
   "source": [
    "easy_ct = df_easy.shape[0]\n",
    "easy_ct"
   ]
  },
  {
   "cell_type": "code",
   "execution_count": 128,
   "metadata": {},
   "outputs": [
    {
     "data": {
      "text/plain": [
       "index               10\n",
       "MealID              11\n",
       "MealName    Fish Tacos\n",
       "Carb         tortillas\n",
       "Protein           fish\n",
       "Veg            avocado\n",
       "Ease             quick\n",
       "Name: 2, dtype: object"
      ]
     },
     "execution_count": 128,
     "metadata": {},
     "output_type": "execute_result"
    }
   ],
   "source": [
    "rints = rng.integers(low=0, high=easy_ct, size=1)\n",
    "#rints[0]\n",
    "df_easy.loc[rints[0]]"
   ]
  },
  {
   "cell_type": "code",
   "execution_count": null,
   "metadata": {},
   "outputs": [],
   "source": [
    "# if veggie recipe not selected, remove non-veggie meals from easy recipe list"
   ]
  },
  {
   "cell_type": "code",
   "execution_count": 7,
   "metadata": {},
   "outputs": [],
   "source": [
    "# randomly select 1 easy recipe"
   ]
  },
  {
   "cell_type": "code",
   "execution_count": 9,
   "metadata": {},
   "outputs": [],
   "source": [
    "# if any recipe is null, start over"
   ]
  },
  {
   "cell_type": "code",
   "execution_count": 10,
   "metadata": {},
   "outputs": [],
   "source": [
    "# print selected recipes"
   ]
  },
  {
   "cell_type": "code",
   "execution_count": 11,
   "metadata": {},
   "outputs": [],
   "source": [
    "# prompt user to accept each"
   ]
  },
  {
   "cell_type": "code",
   "execution_count": 12,
   "metadata": {},
   "outputs": [],
   "source": [
    "# if a recipe is rejected, \n",
    "#   1. if moderate/hard receipe rejected, prompt user if prefer an easy one\n",
    "#   2. recreate new list (so the rejected carb can be selected again) and select another random recipe"
   ]
  },
  {
   "cell_type": "code",
   "execution_count": null,
   "metadata": {},
   "outputs": [],
   "source": [
    "# after 3 recipes generated and accepted, print shopping list"
   ]
  }
 ],
 "metadata": {
  "kernelspec": {
   "display_name": "Python 3",
   "language": "python",
   "name": "python3"
  },
  "language_info": {
   "codemirror_mode": {
    "name": "ipython",
    "version": 3
   },
   "file_extension": ".py",
   "mimetype": "text/x-python",
   "name": "python",
   "nbconvert_exporter": "python",
   "pygments_lexer": "ipython3",
   "version": "3.8.5"
  }
 },
 "nbformat": 4,
 "nbformat_minor": 4
}
